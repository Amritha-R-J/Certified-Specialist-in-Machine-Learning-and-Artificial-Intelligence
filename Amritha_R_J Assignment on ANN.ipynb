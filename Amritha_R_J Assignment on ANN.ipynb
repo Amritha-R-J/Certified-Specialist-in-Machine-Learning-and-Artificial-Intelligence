{
 "cells": [
  {
   "cell_type": "code",
   "execution_count": 1,
   "metadata": {
    "id": "iuDzBIVnvOUc"
   },
   "outputs": [],
   "source": [
    "import pandas as pd\n",
    "import numpy as np"
   ]
  },
  {
   "cell_type": "code",
   "execution_count": 2,
   "metadata": {
    "id": "XzFPgZzPvp5y"
   },
   "outputs": [],
   "source": [
    "data = pd.read_csv(\"breastcancer.csv\")"
   ]
  },
  {
   "cell_type": "code",
   "execution_count": 3,
   "metadata": {},
   "outputs": [
    {
     "data": {
      "text/html": [
       "<div>\n",
       "<style scoped>\n",
       "    .dataframe tbody tr th:only-of-type {\n",
       "        vertical-align: middle;\n",
       "    }\n",
       "\n",
       "    .dataframe tbody tr th {\n",
       "        vertical-align: top;\n",
       "    }\n",
       "\n",
       "    .dataframe thead th {\n",
       "        text-align: right;\n",
       "    }\n",
       "</style>\n",
       "<table border=\"1\" class=\"dataframe\">\n",
       "  <thead>\n",
       "    <tr style=\"text-align: right;\">\n",
       "      <th></th>\n",
       "      <th>id</th>\n",
       "      <th>diagnosis</th>\n",
       "      <th>radius_mean</th>\n",
       "      <th>texture_mean</th>\n",
       "      <th>perimeter_mean</th>\n",
       "      <th>area_mean</th>\n",
       "      <th>smoothness_mean</th>\n",
       "      <th>compactness_mean</th>\n",
       "      <th>concavity_mean</th>\n",
       "      <th>concave points_mean</th>\n",
       "      <th>...</th>\n",
       "      <th>texture_worst</th>\n",
       "      <th>perimeter_worst</th>\n",
       "      <th>area_worst</th>\n",
       "      <th>smoothness_worst</th>\n",
       "      <th>compactness_worst</th>\n",
       "      <th>concavity_worst</th>\n",
       "      <th>concave points_worst</th>\n",
       "      <th>symmetry_worst</th>\n",
       "      <th>fractal_dimension_worst</th>\n",
       "      <th>Unnamed: 32</th>\n",
       "    </tr>\n",
       "  </thead>\n",
       "  <tbody>\n",
       "    <tr>\n",
       "      <th>0</th>\n",
       "      <td>842302</td>\n",
       "      <td>M</td>\n",
       "      <td>17.99</td>\n",
       "      <td>10.38</td>\n",
       "      <td>122.80</td>\n",
       "      <td>1001.0</td>\n",
       "      <td>0.11840</td>\n",
       "      <td>0.27760</td>\n",
       "      <td>0.30010</td>\n",
       "      <td>0.14710</td>\n",
       "      <td>...</td>\n",
       "      <td>17.33</td>\n",
       "      <td>184.60</td>\n",
       "      <td>2019.0</td>\n",
       "      <td>0.16220</td>\n",
       "      <td>0.66560</td>\n",
       "      <td>0.7119</td>\n",
       "      <td>0.2654</td>\n",
       "      <td>0.4601</td>\n",
       "      <td>0.11890</td>\n",
       "      <td>NaN</td>\n",
       "    </tr>\n",
       "    <tr>\n",
       "      <th>1</th>\n",
       "      <td>842517</td>\n",
       "      <td>M</td>\n",
       "      <td>20.57</td>\n",
       "      <td>17.77</td>\n",
       "      <td>132.90</td>\n",
       "      <td>1326.0</td>\n",
       "      <td>0.08474</td>\n",
       "      <td>0.07864</td>\n",
       "      <td>0.08690</td>\n",
       "      <td>0.07017</td>\n",
       "      <td>...</td>\n",
       "      <td>23.41</td>\n",
       "      <td>158.80</td>\n",
       "      <td>1956.0</td>\n",
       "      <td>0.12380</td>\n",
       "      <td>0.18660</td>\n",
       "      <td>0.2416</td>\n",
       "      <td>0.1860</td>\n",
       "      <td>0.2750</td>\n",
       "      <td>0.08902</td>\n",
       "      <td>NaN</td>\n",
       "    </tr>\n",
       "    <tr>\n",
       "      <th>2</th>\n",
       "      <td>84300903</td>\n",
       "      <td>M</td>\n",
       "      <td>19.69</td>\n",
       "      <td>21.25</td>\n",
       "      <td>130.00</td>\n",
       "      <td>1203.0</td>\n",
       "      <td>0.10960</td>\n",
       "      <td>0.15990</td>\n",
       "      <td>0.19740</td>\n",
       "      <td>0.12790</td>\n",
       "      <td>...</td>\n",
       "      <td>25.53</td>\n",
       "      <td>152.50</td>\n",
       "      <td>1709.0</td>\n",
       "      <td>0.14440</td>\n",
       "      <td>0.42450</td>\n",
       "      <td>0.4504</td>\n",
       "      <td>0.2430</td>\n",
       "      <td>0.3613</td>\n",
       "      <td>0.08758</td>\n",
       "      <td>NaN</td>\n",
       "    </tr>\n",
       "    <tr>\n",
       "      <th>3</th>\n",
       "      <td>84348301</td>\n",
       "      <td>M</td>\n",
       "      <td>11.42</td>\n",
       "      <td>20.38</td>\n",
       "      <td>77.58</td>\n",
       "      <td>386.1</td>\n",
       "      <td>0.14250</td>\n",
       "      <td>0.28390</td>\n",
       "      <td>0.24140</td>\n",
       "      <td>0.10520</td>\n",
       "      <td>...</td>\n",
       "      <td>26.50</td>\n",
       "      <td>98.87</td>\n",
       "      <td>567.7</td>\n",
       "      <td>0.20980</td>\n",
       "      <td>0.86630</td>\n",
       "      <td>0.6869</td>\n",
       "      <td>0.2575</td>\n",
       "      <td>0.6638</td>\n",
       "      <td>0.17300</td>\n",
       "      <td>NaN</td>\n",
       "    </tr>\n",
       "    <tr>\n",
       "      <th>4</th>\n",
       "      <td>84358402</td>\n",
       "      <td>M</td>\n",
       "      <td>20.29</td>\n",
       "      <td>14.34</td>\n",
       "      <td>135.10</td>\n",
       "      <td>1297.0</td>\n",
       "      <td>0.10030</td>\n",
       "      <td>0.13280</td>\n",
       "      <td>0.19800</td>\n",
       "      <td>0.10430</td>\n",
       "      <td>...</td>\n",
       "      <td>16.67</td>\n",
       "      <td>152.20</td>\n",
       "      <td>1575.0</td>\n",
       "      <td>0.13740</td>\n",
       "      <td>0.20500</td>\n",
       "      <td>0.4000</td>\n",
       "      <td>0.1625</td>\n",
       "      <td>0.2364</td>\n",
       "      <td>0.07678</td>\n",
       "      <td>NaN</td>\n",
       "    </tr>\n",
       "    <tr>\n",
       "      <th>...</th>\n",
       "      <td>...</td>\n",
       "      <td>...</td>\n",
       "      <td>...</td>\n",
       "      <td>...</td>\n",
       "      <td>...</td>\n",
       "      <td>...</td>\n",
       "      <td>...</td>\n",
       "      <td>...</td>\n",
       "      <td>...</td>\n",
       "      <td>...</td>\n",
       "      <td>...</td>\n",
       "      <td>...</td>\n",
       "      <td>...</td>\n",
       "      <td>...</td>\n",
       "      <td>...</td>\n",
       "      <td>...</td>\n",
       "      <td>...</td>\n",
       "      <td>...</td>\n",
       "      <td>...</td>\n",
       "      <td>...</td>\n",
       "      <td>...</td>\n",
       "    </tr>\n",
       "    <tr>\n",
       "      <th>564</th>\n",
       "      <td>926424</td>\n",
       "      <td>M</td>\n",
       "      <td>21.56</td>\n",
       "      <td>22.39</td>\n",
       "      <td>142.00</td>\n",
       "      <td>1479.0</td>\n",
       "      <td>0.11100</td>\n",
       "      <td>0.11590</td>\n",
       "      <td>0.24390</td>\n",
       "      <td>0.13890</td>\n",
       "      <td>...</td>\n",
       "      <td>26.40</td>\n",
       "      <td>166.10</td>\n",
       "      <td>2027.0</td>\n",
       "      <td>0.14100</td>\n",
       "      <td>0.21130</td>\n",
       "      <td>0.4107</td>\n",
       "      <td>0.2216</td>\n",
       "      <td>0.2060</td>\n",
       "      <td>0.07115</td>\n",
       "      <td>NaN</td>\n",
       "    </tr>\n",
       "    <tr>\n",
       "      <th>565</th>\n",
       "      <td>926682</td>\n",
       "      <td>M</td>\n",
       "      <td>20.13</td>\n",
       "      <td>28.25</td>\n",
       "      <td>131.20</td>\n",
       "      <td>1261.0</td>\n",
       "      <td>0.09780</td>\n",
       "      <td>0.10340</td>\n",
       "      <td>0.14400</td>\n",
       "      <td>0.09791</td>\n",
       "      <td>...</td>\n",
       "      <td>38.25</td>\n",
       "      <td>155.00</td>\n",
       "      <td>1731.0</td>\n",
       "      <td>0.11660</td>\n",
       "      <td>0.19220</td>\n",
       "      <td>0.3215</td>\n",
       "      <td>0.1628</td>\n",
       "      <td>0.2572</td>\n",
       "      <td>0.06637</td>\n",
       "      <td>NaN</td>\n",
       "    </tr>\n",
       "    <tr>\n",
       "      <th>566</th>\n",
       "      <td>926954</td>\n",
       "      <td>M</td>\n",
       "      <td>16.60</td>\n",
       "      <td>28.08</td>\n",
       "      <td>108.30</td>\n",
       "      <td>858.1</td>\n",
       "      <td>0.08455</td>\n",
       "      <td>0.10230</td>\n",
       "      <td>0.09251</td>\n",
       "      <td>0.05302</td>\n",
       "      <td>...</td>\n",
       "      <td>34.12</td>\n",
       "      <td>126.70</td>\n",
       "      <td>1124.0</td>\n",
       "      <td>0.11390</td>\n",
       "      <td>0.30940</td>\n",
       "      <td>0.3403</td>\n",
       "      <td>0.1418</td>\n",
       "      <td>0.2218</td>\n",
       "      <td>0.07820</td>\n",
       "      <td>NaN</td>\n",
       "    </tr>\n",
       "    <tr>\n",
       "      <th>567</th>\n",
       "      <td>927241</td>\n",
       "      <td>M</td>\n",
       "      <td>20.60</td>\n",
       "      <td>29.33</td>\n",
       "      <td>140.10</td>\n",
       "      <td>1265.0</td>\n",
       "      <td>0.11780</td>\n",
       "      <td>0.27700</td>\n",
       "      <td>0.35140</td>\n",
       "      <td>0.15200</td>\n",
       "      <td>...</td>\n",
       "      <td>39.42</td>\n",
       "      <td>184.60</td>\n",
       "      <td>1821.0</td>\n",
       "      <td>0.16500</td>\n",
       "      <td>0.86810</td>\n",
       "      <td>0.9387</td>\n",
       "      <td>0.2650</td>\n",
       "      <td>0.4087</td>\n",
       "      <td>0.12400</td>\n",
       "      <td>NaN</td>\n",
       "    </tr>\n",
       "    <tr>\n",
       "      <th>568</th>\n",
       "      <td>92751</td>\n",
       "      <td>B</td>\n",
       "      <td>7.76</td>\n",
       "      <td>24.54</td>\n",
       "      <td>47.92</td>\n",
       "      <td>181.0</td>\n",
       "      <td>0.05263</td>\n",
       "      <td>0.04362</td>\n",
       "      <td>0.00000</td>\n",
       "      <td>0.00000</td>\n",
       "      <td>...</td>\n",
       "      <td>30.37</td>\n",
       "      <td>59.16</td>\n",
       "      <td>268.6</td>\n",
       "      <td>0.08996</td>\n",
       "      <td>0.06444</td>\n",
       "      <td>0.0000</td>\n",
       "      <td>0.0000</td>\n",
       "      <td>0.2871</td>\n",
       "      <td>0.07039</td>\n",
       "      <td>NaN</td>\n",
       "    </tr>\n",
       "  </tbody>\n",
       "</table>\n",
       "<p>569 rows × 33 columns</p>\n",
       "</div>"
      ],
      "text/plain": [
       "           id diagnosis  radius_mean  texture_mean  perimeter_mean  area_mean  \\\n",
       "0      842302         M        17.99         10.38          122.80     1001.0   \n",
       "1      842517         M        20.57         17.77          132.90     1326.0   \n",
       "2    84300903         M        19.69         21.25          130.00     1203.0   \n",
       "3    84348301         M        11.42         20.38           77.58      386.1   \n",
       "4    84358402         M        20.29         14.34          135.10     1297.0   \n",
       "..        ...       ...          ...           ...             ...        ...   \n",
       "564    926424         M        21.56         22.39          142.00     1479.0   \n",
       "565    926682         M        20.13         28.25          131.20     1261.0   \n",
       "566    926954         M        16.60         28.08          108.30      858.1   \n",
       "567    927241         M        20.60         29.33          140.10     1265.0   \n",
       "568     92751         B         7.76         24.54           47.92      181.0   \n",
       "\n",
       "     smoothness_mean  compactness_mean  concavity_mean  concave points_mean  \\\n",
       "0            0.11840           0.27760         0.30010              0.14710   \n",
       "1            0.08474           0.07864         0.08690              0.07017   \n",
       "2            0.10960           0.15990         0.19740              0.12790   \n",
       "3            0.14250           0.28390         0.24140              0.10520   \n",
       "4            0.10030           0.13280         0.19800              0.10430   \n",
       "..               ...               ...             ...                  ...   \n",
       "564          0.11100           0.11590         0.24390              0.13890   \n",
       "565          0.09780           0.10340         0.14400              0.09791   \n",
       "566          0.08455           0.10230         0.09251              0.05302   \n",
       "567          0.11780           0.27700         0.35140              0.15200   \n",
       "568          0.05263           0.04362         0.00000              0.00000   \n",
       "\n",
       "     ...  texture_worst  perimeter_worst  area_worst  smoothness_worst  \\\n",
       "0    ...          17.33           184.60      2019.0           0.16220   \n",
       "1    ...          23.41           158.80      1956.0           0.12380   \n",
       "2    ...          25.53           152.50      1709.0           0.14440   \n",
       "3    ...          26.50            98.87       567.7           0.20980   \n",
       "4    ...          16.67           152.20      1575.0           0.13740   \n",
       "..   ...            ...              ...         ...               ...   \n",
       "564  ...          26.40           166.10      2027.0           0.14100   \n",
       "565  ...          38.25           155.00      1731.0           0.11660   \n",
       "566  ...          34.12           126.70      1124.0           0.11390   \n",
       "567  ...          39.42           184.60      1821.0           0.16500   \n",
       "568  ...          30.37            59.16       268.6           0.08996   \n",
       "\n",
       "     compactness_worst  concavity_worst  concave points_worst  symmetry_worst  \\\n",
       "0              0.66560           0.7119                0.2654          0.4601   \n",
       "1              0.18660           0.2416                0.1860          0.2750   \n",
       "2              0.42450           0.4504                0.2430          0.3613   \n",
       "3              0.86630           0.6869                0.2575          0.6638   \n",
       "4              0.20500           0.4000                0.1625          0.2364   \n",
       "..                 ...              ...                   ...             ...   \n",
       "564            0.21130           0.4107                0.2216          0.2060   \n",
       "565            0.19220           0.3215                0.1628          0.2572   \n",
       "566            0.30940           0.3403                0.1418          0.2218   \n",
       "567            0.86810           0.9387                0.2650          0.4087   \n",
       "568            0.06444           0.0000                0.0000          0.2871   \n",
       "\n",
       "     fractal_dimension_worst  Unnamed: 32  \n",
       "0                    0.11890          NaN  \n",
       "1                    0.08902          NaN  \n",
       "2                    0.08758          NaN  \n",
       "3                    0.17300          NaN  \n",
       "4                    0.07678          NaN  \n",
       "..                       ...          ...  \n",
       "564                  0.07115          NaN  \n",
       "565                  0.06637          NaN  \n",
       "566                  0.07820          NaN  \n",
       "567                  0.12400          NaN  \n",
       "568                  0.07039          NaN  \n",
       "\n",
       "[569 rows x 33 columns]"
      ]
     },
     "execution_count": 3,
     "metadata": {},
     "output_type": "execute_result"
    }
   ],
   "source": [
    "data"
   ]
  },
  {
   "cell_type": "code",
   "execution_count": 4,
   "metadata": {
    "colab": {
     "base_uri": "https://localhost:8080/"
    },
    "id": "jgWXKusHvuz_",
    "outputId": "6b9900bc-6f84-46ca-d1ba-0567e2672b60"
   },
   "outputs": [
    {
     "data": {
      "text/plain": [
       "Index(['id', 'diagnosis', 'radius_mean', 'texture_mean', 'perimeter_mean',\n",
       "       'area_mean', 'smoothness_mean', 'compactness_mean', 'concavity_mean',\n",
       "       'concave points_mean', 'symmetry_mean', 'fractal_dimension_mean',\n",
       "       'radius_se', 'texture_se', 'perimeter_se', 'area_se', 'smoothness_se',\n",
       "       'compactness_se', 'concavity_se', 'concave points_se', 'symmetry_se',\n",
       "       'fractal_dimension_se', 'radius_worst', 'texture_worst',\n",
       "       'perimeter_worst', 'area_worst', 'smoothness_worst',\n",
       "       'compactness_worst', 'concavity_worst', 'concave points_worst',\n",
       "       'symmetry_worst', 'fractal_dimension_worst', 'Unnamed: 32'],\n",
       "      dtype='object')"
      ]
     },
     "execution_count": 4,
     "metadata": {},
     "output_type": "execute_result"
    }
   ],
   "source": [
    "data.columns"
   ]
  },
  {
   "cell_type": "code",
   "execution_count": 5,
   "metadata": {
    "colab": {
     "base_uri": "https://localhost:8080/"
    },
    "id": "WBV-ReCQv0qc",
    "outputId": "1e30dcfc-e63f-4159-f24e-6e4ae04e6719"
   },
   "outputs": [
    {
     "data": {
      "text/plain": [
       "id                           0\n",
       "diagnosis                    0\n",
       "radius_mean                  0\n",
       "texture_mean                 0\n",
       "perimeter_mean               0\n",
       "area_mean                    0\n",
       "smoothness_mean              0\n",
       "compactness_mean             0\n",
       "concavity_mean               0\n",
       "concave points_mean          0\n",
       "symmetry_mean                0\n",
       "fractal_dimension_mean       0\n",
       "radius_se                    0\n",
       "texture_se                   0\n",
       "perimeter_se                 0\n",
       "area_se                      0\n",
       "smoothness_se                0\n",
       "compactness_se               0\n",
       "concavity_se                 0\n",
       "concave points_se            0\n",
       "symmetry_se                  0\n",
       "fractal_dimension_se         0\n",
       "radius_worst                 0\n",
       "texture_worst                0\n",
       "perimeter_worst              0\n",
       "area_worst                   0\n",
       "smoothness_worst             0\n",
       "compactness_worst            0\n",
       "concavity_worst              0\n",
       "concave points_worst         0\n",
       "symmetry_worst               0\n",
       "fractal_dimension_worst      0\n",
       "Unnamed: 32                569\n",
       "dtype: int64"
      ]
     },
     "execution_count": 5,
     "metadata": {},
     "output_type": "execute_result"
    }
   ],
   "source": [
    "data.isna().sum()"
   ]
  },
  {
   "cell_type": "code",
   "execution_count": 6,
   "metadata": {
    "id": "c8Cb_VCHwBTZ"
   },
   "outputs": [],
   "source": [
    "x = data[[ 'radius_mean', 'texture_mean', 'perimeter_mean',\n",
    "       'area_mean', 'smoothness_mean', 'compactness_mean', 'concavity_mean',\n",
    "       'concave points_mean', 'symmetry_mean', 'fractal_dimension_mean',\n",
    "       'radius_se', 'texture_se', 'perimeter_se', 'area_se', 'smoothness_se',\n",
    "       'compactness_se', 'concavity_se', 'concave points_se', 'symmetry_se',\n",
    "       'fractal_dimension_se', 'radius_worst', 'texture_worst',\n",
    "       'perimeter_worst', 'area_worst', 'smoothness_worst',\n",
    "       'compactness_worst', 'concavity_worst', 'concave points_worst',\n",
    "       'symmetry_worst', 'fractal_dimension_worst']]"
   ]
  },
  {
   "cell_type": "code",
   "execution_count": 7,
   "metadata": {
    "id": "VxFFlWGSwPQ6"
   },
   "outputs": [],
   "source": [
    "y = data['diagnosis']"
   ]
  },
  {
   "cell_type": "code",
   "execution_count": 8,
   "metadata": {
    "colab": {
     "base_uri": "https://localhost:8080/"
    },
    "id": "1A2yIpuVwT4q",
    "outputId": "55215f30-53ff-4648-cf04-6080ed5f245a"
   },
   "outputs": [
    {
     "data": {
      "text/plain": [
       "B    357\n",
       "M    212\n",
       "Name: diagnosis, dtype: int64"
      ]
     },
     "execution_count": 8,
     "metadata": {},
     "output_type": "execute_result"
    }
   ],
   "source": [
    "y.value_counts()"
   ]
  },
  {
   "cell_type": "code",
   "execution_count": 9,
   "metadata": {
    "id": "eZdmKLC6wU4S"
   },
   "outputs": [],
   "source": [
    "y  = y.map({\"B\":0,\"M\":1})"
   ]
  },
  {
   "cell_type": "code",
   "execution_count": 10,
   "metadata": {
    "id": "NXqNESkVwfsV"
   },
   "outputs": [],
   "source": [
    "from sklearn.model_selection import train_test_split"
   ]
  },
  {
   "cell_type": "code",
   "execution_count": 11,
   "metadata": {
    "id": "MlOUwLc8wpK8"
   },
   "outputs": [],
   "source": [
    "x_train, x_test, y_train, y_test = train_test_split(x,y,\n",
    "                                                     test_size=0.2,\n",
    "                                                     random_state = 134)"
   ]
  },
  {
   "cell_type": "code",
   "execution_count": 12,
   "metadata": {
    "colab": {
     "base_uri": "https://localhost:8080/"
    },
    "id": "DAFGrVTrxaht",
    "outputId": "d79e671f-40ad-4b60-fbe9-85056b1ec455"
   },
   "outputs": [
    {
     "data": {
      "text/plain": [
       "(455, 30)"
      ]
     },
     "execution_count": 12,
     "metadata": {},
     "output_type": "execute_result"
    }
   ],
   "source": [
    "x_train.shape"
   ]
  },
  {
   "cell_type": "code",
   "execution_count": 13,
   "metadata": {},
   "outputs": [],
   "source": [
    "from sklearn.preprocessing import StandardScaler\n",
    "scaler = StandardScaler()\n",
    "x_train = scaler.fit_transform(x_train)\n",
    "x_test = scaler.transform(x_test)"
   ]
  },
  {
   "cell_type": "code",
   "execution_count": 14,
   "metadata": {},
   "outputs": [],
   "source": [
    "from tensorflow import keras"
   ]
  },
  {
   "cell_type": "code",
   "execution_count": 15,
   "metadata": {
    "id": "I95cXZ8Zwzcv"
   },
   "outputs": [],
   "source": [
    "from tensorflow.keras.models import Sequential"
   ]
  },
  {
   "cell_type": "code",
   "execution_count": 16,
   "metadata": {
    "id": "iE_jtd__xHOc"
   },
   "outputs": [],
   "source": [
    "from tensorflow.keras.layers import Dense"
   ]
  },
  {
   "cell_type": "code",
   "execution_count": 17,
   "metadata": {
    "colab": {
     "base_uri": "https://localhost:8080/"
    },
    "id": "PgqN-gzXxKku",
    "outputId": "0f58c4c0-e714-44b8-bbee-fed0c38fcbf1"
   },
   "outputs": [
    {
     "name": "stdout",
     "output_type": "stream",
     "text": [
      "Model: \"sequential\"\n",
      "_________________________________________________________________\n",
      " Layer (type)                Output Shape              Param #   \n",
      "=================================================================\n",
      " dense (Dense)               (None, 32)                992       \n",
      "                                                                 \n",
      " dense_1 (Dense)             (None, 32)                1056      \n",
      "                                                                 \n",
      " dense_2 (Dense)             (None, 1)                 33        \n",
      "                                                                 \n",
      "=================================================================\n",
      "Total params: 2,081\n",
      "Trainable params: 2,081\n",
      "Non-trainable params: 0\n",
      "_________________________________________________________________\n"
     ]
    }
   ],
   "source": [
    "model1 = Sequential()\n",
    "model1.add(Dense(32, input_shape = (30,), activation = \"relu\"))\n",
    "model1.add(Dense(32, activation = \"relu\"))\n",
    "model1.add(Dense(1, activation = \"sigmoid\"))\n",
    "model1.summary()"
   ]
  },
  {
   "cell_type": "code",
   "execution_count": 18,
   "metadata": {
    "id": "b2a5v4RExwCY"
   },
   "outputs": [],
   "source": [
    "model1.compile(optimizer = \"sgd\", loss = \"binary_crossentropy\",\n",
    "               metrics = [\"accuracy\"])"
   ]
  },
  {
   "cell_type": "code",
   "execution_count": 19,
   "metadata": {
    "colab": {
     "base_uri": "https://localhost:8080/"
    },
    "id": "xlDD9NZ1x7H0",
    "outputId": "d2cc6d9d-d76b-48a4-f768-b272018e146e"
   },
   "outputs": [
    {
     "name": "stdout",
     "output_type": "stream",
     "text": [
      "Epoch 1/10\n",
      "15/15 [==============================] - 1s 3ms/step - loss: 0.7175 - accuracy: 0.4593\n",
      "Epoch 2/10\n",
      "15/15 [==============================] - 0s 2ms/step - loss: 0.5759 - accuracy: 0.6923\n",
      "Epoch 3/10\n",
      "15/15 [==============================] - 0s 2ms/step - loss: 0.4839 - accuracy: 0.8220\n",
      "Epoch 4/10\n",
      "15/15 [==============================] - 0s 2ms/step - loss: 0.4170 - accuracy: 0.8901\n",
      "Epoch 5/10\n",
      "15/15 [==============================] - 0s 3ms/step - loss: 0.3673 - accuracy: 0.9121\n",
      "Epoch 6/10\n",
      "15/15 [==============================] - 0s 1ms/step - loss: 0.3280 - accuracy: 0.9231\n",
      "Epoch 7/10\n",
      "15/15 [==============================] - 0s 1ms/step - loss: 0.2964 - accuracy: 0.9297\n",
      "Epoch 8/10\n",
      "15/15 [==============================] - 0s 2ms/step - loss: 0.2703 - accuracy: 0.9341\n",
      "Epoch 9/10\n",
      "15/15 [==============================] - 0s 3ms/step - loss: 0.2486 - accuracy: 0.9385\n",
      "Epoch 10/10\n",
      "15/15 [==============================] - 0s 2ms/step - loss: 0.2311 - accuracy: 0.9473\n"
     ]
    },
    {
     "data": {
      "text/plain": [
       "<keras.callbacks.History at 0x1f1a1909f70>"
      ]
     },
     "execution_count": 19,
     "metadata": {},
     "output_type": "execute_result"
    }
   ],
   "source": [
    "model1.fit(x_train, y_train, epochs = 10)"
   ]
  },
  {
   "cell_type": "code",
   "execution_count": 20,
   "metadata": {
    "id": "Fg4Bx8XQyDn-"
   },
   "outputs": [
    {
     "name": "stdout",
     "output_type": "stream",
     "text": [
      "4/4 [==============================] - 0s 0s/step - loss: 0.2502 - accuracy: 0.9035\n",
      "Accuracy on validation set:  0.9035087823867798\n"
     ]
    }
   ],
   "source": [
    "accuracy = model1.evaluate(x_test,y_test)\n",
    "print(\"Accuracy on validation set: \", accuracy[1])"
   ]
  },
  {
   "cell_type": "code",
   "execution_count": 21,
   "metadata": {},
   "outputs": [
    {
     "name": "stdout",
     "output_type": "stream",
     "text": [
      "Model: \"sequential_1\"\n",
      "_________________________________________________________________\n",
      " Layer (type)                Output Shape              Param #   \n",
      "=================================================================\n",
      " dense_3 (Dense)             (None, 32)                992       \n",
      "                                                                 \n",
      " dense_4 (Dense)             (None, 32)                1056      \n",
      "                                                                 \n",
      " dense_5 (Dense)             (None, 1)                 33        \n",
      "                                                                 \n",
      "=================================================================\n",
      "Total params: 2,081\n",
      "Trainable params: 2,081\n",
      "Non-trainable params: 0\n",
      "_________________________________________________________________\n"
     ]
    }
   ],
   "source": [
    "import tensorflow as tf\n",
    "model2 = tf.keras.Sequential([\n",
    "    tf.keras.layers.Dense(32, activation='tanh', input_shape=(30,)),\n",
    "    tf.keras.layers.Dense(32, activation='tanh'),\n",
    "    tf.keras.layers.Dense(1, activation='softmax')\n",
    "])\n",
    "model2.summary()"
   ]
  },
  {
   "cell_type": "code",
   "execution_count": 22,
   "metadata": {},
   "outputs": [],
   "source": [
    "model2.compile(loss=\"binary_crossentropy\", optimizer=\"adam\", metrics=[\"accuracy\"])"
   ]
  },
  {
   "cell_type": "code",
   "execution_count": 23,
   "metadata": {},
   "outputs": [
    {
     "name": "stdout",
     "output_type": "stream",
     "text": [
      "Epoch 1/20\n",
      "15/15 [==============================] - 1s 2ms/step - loss: 0.3647 - accuracy: 0.3692\n",
      "Epoch 2/20\n",
      "15/15 [==============================] - 0s 2ms/step - loss: 0.1824 - accuracy: 0.3692\n",
      "Epoch 3/20\n",
      "15/15 [==============================] - 0s 2ms/step - loss: 0.1312 - accuracy: 0.3692\n",
      "Epoch 4/20\n",
      "15/15 [==============================] - 0s 1ms/step - loss: 0.1019 - accuracy: 0.3692\n",
      "Epoch 5/20\n",
      "15/15 [==============================] - 0s 2ms/step - loss: 0.0857 - accuracy: 0.3692\n",
      "Epoch 6/20\n",
      "15/15 [==============================] - 0s 2ms/step - loss: 0.0748 - accuracy: 0.3692\n",
      "Epoch 7/20\n",
      "15/15 [==============================] - 0s 2ms/step - loss: 0.0668 - accuracy: 0.3692\n",
      "Epoch 8/20\n",
      "15/15 [==============================] - 0s 983us/step - loss: 0.0609 - accuracy: 0.3692\n",
      "Epoch 9/20\n",
      "15/15 [==============================] - 0s 2ms/step - loss: 0.0567 - accuracy: 0.3692\n",
      "Epoch 10/20\n",
      "15/15 [==============================] - 0s 1ms/step - loss: 0.0535 - accuracy: 0.3692\n",
      "Epoch 11/20\n",
      "15/15 [==============================] - 0s 2ms/step - loss: 0.0509 - accuracy: 0.3692\n",
      "Epoch 12/20\n",
      "15/15 [==============================] - 0s 2ms/step - loss: 0.0486 - accuracy: 0.3692\n",
      "Epoch 13/20\n",
      "15/15 [==============================] - 0s 2ms/step - loss: 0.0466 - accuracy: 0.3692\n",
      "Epoch 14/20\n",
      "15/15 [==============================] - 0s 2ms/step - loss: 0.0447 - accuracy: 0.3692\n",
      "Epoch 15/20\n",
      "15/15 [==============================] - 0s 2ms/step - loss: 0.0435 - accuracy: 0.3692\n",
      "Epoch 16/20\n",
      "15/15 [==============================] - 0s 2ms/step - loss: 0.0420 - accuracy: 0.3692\n",
      "Epoch 17/20\n",
      "15/15 [==============================] - 0s 2ms/step - loss: 0.0409 - accuracy: 0.3692\n",
      "Epoch 18/20\n",
      "15/15 [==============================] - 0s 2ms/step - loss: 0.0397 - accuracy: 0.3692\n",
      "Epoch 19/20\n",
      "15/15 [==============================] - 0s 2ms/step - loss: 0.0392 - accuracy: 0.3692\n",
      "Epoch 20/20\n",
      "15/15 [==============================] - 0s 2ms/step - loss: 0.0368 - accuracy: 0.3692\n"
     ]
    },
    {
     "data": {
      "text/plain": [
       "<keras.callbacks.History at 0x1f1a46e04f0>"
      ]
     },
     "execution_count": 23,
     "metadata": {},
     "output_type": "execute_result"
    }
   ],
   "source": [
    "model2.fit(x_train, y_train, epochs = 20)"
   ]
  },
  {
   "cell_type": "code",
   "execution_count": 24,
   "metadata": {},
   "outputs": [
    {
     "name": "stdout",
     "output_type": "stream",
     "text": [
      "4/4 [==============================] - 0s 2ms/step - loss: 0.1139 - accuracy: 0.3860\n",
      "Accuracy on validation set:  0.38596490025520325\n"
     ]
    }
   ],
   "source": [
    "accuracy = model2.evaluate(x_test,y_test)\n",
    "print(\"Accuracy on validation set: \", accuracy[1])"
   ]
  },
  {
   "cell_type": "code",
   "execution_count": 25,
   "metadata": {},
   "outputs": [
    {
     "name": "stdout",
     "output_type": "stream",
     "text": [
      "Model: \"sequential_1\"\n",
      "_________________________________________________________________\n",
      " Layer (type)                Output Shape              Param #   \n",
      "=================================================================\n",
      " dense_3 (Dense)             (None, 32)                992       \n",
      "                                                                 \n",
      " dense_4 (Dense)             (None, 32)                1056      \n",
      "                                                                 \n",
      " dense_5 (Dense)             (None, 1)                 33        \n",
      "                                                                 \n",
      "=================================================================\n",
      "Total params: 2,081\n",
      "Trainable params: 2,081\n",
      "Non-trainable params: 0\n",
      "_________________________________________________________________\n"
     ]
    }
   ],
   "source": [
    "model3 = tf.keras.Sequential([\n",
    "    tf.keras.layers.Dense(32, activation='sigmoid', input_shape=(30,)),\n",
    "    tf.keras.layers.Dense(32, activation='sigmoid'),\n",
    "    tf.keras.layers.Dense(1, activation='softmax')\n",
    "])\n",
    "model2.summary()"
   ]
  },
  {
   "cell_type": "code",
   "execution_count": 26,
   "metadata": {},
   "outputs": [],
   "source": [
    "model3.compile(loss=\"binary_crossentropy\", optimizer=\"sgd\", metrics=[\"accuracy\"])"
   ]
  },
  {
   "cell_type": "code",
   "execution_count": 27,
   "metadata": {},
   "outputs": [
    {
     "name": "stdout",
     "output_type": "stream",
     "text": [
      "Epoch 1/30\n",
      "15/15 [==============================] - 0s 2ms/step - loss: 0.6415 - accuracy: 0.3692\n",
      "Epoch 2/30\n",
      "15/15 [==============================] - 0s 2ms/step - loss: 0.6380 - accuracy: 0.3692\n",
      "Epoch 3/30\n",
      "15/15 [==============================] - 0s 2ms/step - loss: 0.6356 - accuracy: 0.3692\n",
      "Epoch 4/30\n",
      "15/15 [==============================] - 0s 2ms/step - loss: 0.6336 - accuracy: 0.3692\n",
      "Epoch 5/30\n",
      "15/15 [==============================] - 0s 2ms/step - loss: 0.6316 - accuracy: 0.3692\n",
      "Epoch 6/30\n",
      "15/15 [==============================] - 0s 1ms/step - loss: 0.6294 - accuracy: 0.3692\n",
      "Epoch 7/30\n",
      "15/15 [==============================] - 0s 3ms/step - loss: 0.6277 - accuracy: 0.3692\n",
      "Epoch 8/30\n",
      "15/15 [==============================] - 0s 2ms/step - loss: 0.6256 - accuracy: 0.3692\n",
      "Epoch 9/30\n",
      "15/15 [==============================] - 0s 2ms/step - loss: 0.6233 - accuracy: 0.3692\n",
      "Epoch 10/30\n",
      "15/15 [==============================] - 0s 2ms/step - loss: 0.6212 - accuracy: 0.3692\n",
      "Epoch 11/30\n",
      "15/15 [==============================] - 0s 2ms/step - loss: 0.6191 - accuracy: 0.3692\n",
      "Epoch 12/30\n",
      "15/15 [==============================] - 0s 1ms/step - loss: 0.6169 - accuracy: 0.3692\n",
      "Epoch 13/30\n",
      "15/15 [==============================] - 0s 2ms/step - loss: 0.6146 - accuracy: 0.3692\n",
      "Epoch 14/30\n",
      "15/15 [==============================] - 0s 1ms/step - loss: 0.6123 - accuracy: 0.3692\n",
      "Epoch 15/30\n",
      "15/15 [==============================] - 0s 2ms/step - loss: 0.6102 - accuracy: 0.3692\n",
      "Epoch 16/30\n",
      "15/15 [==============================] - 0s 1ms/step - loss: 0.6077 - accuracy: 0.3692\n",
      "Epoch 17/30\n",
      "15/15 [==============================] - 0s 977us/step - loss: 0.6054 - accuracy: 0.3692\n",
      "Epoch 18/30\n",
      "15/15 [==============================] - 0s 2ms/step - loss: 0.6031 - accuracy: 0.3692\n",
      "Epoch 19/30\n",
      "15/15 [==============================] - 0s 2ms/step - loss: 0.6006 - accuracy: 0.3692\n",
      "Epoch 20/30\n",
      "15/15 [==============================] - 0s 807us/step - loss: 0.5978 - accuracy: 0.3692\n",
      "Epoch 21/30\n",
      "15/15 [==============================] - 0s 1ms/step - loss: 0.5954 - accuracy: 0.3692\n",
      "Epoch 22/30\n",
      "15/15 [==============================] - 0s 1ms/step - loss: 0.5925 - accuracy: 0.3692\n",
      "Epoch 23/30\n",
      "15/15 [==============================] - 0s 3ms/step - loss: 0.5900 - accuracy: 0.3692\n",
      "Epoch 24/30\n",
      "15/15 [==============================] - 0s 2ms/step - loss: 0.5874 - accuracy: 0.3692\n",
      "Epoch 25/30\n",
      "15/15 [==============================] - 0s 2ms/step - loss: 0.5845 - accuracy: 0.3692\n",
      "Epoch 26/30\n",
      "15/15 [==============================] - 0s 2ms/step - loss: 0.5815 - accuracy: 0.3692\n",
      "Epoch 27/30\n",
      "15/15 [==============================] - 0s 2ms/step - loss: 0.5786 - accuracy: 0.3692\n",
      "Epoch 28/30\n",
      "15/15 [==============================] - 0s 1ms/step - loss: 0.5756 - accuracy: 0.3692\n",
      "Epoch 29/30\n",
      "15/15 [==============================] - 0s 2ms/step - loss: 0.5725 - accuracy: 0.3692\n",
      "Epoch 30/30\n",
      "15/15 [==============================] - 0s 2ms/step - loss: 0.5695 - accuracy: 0.3692\n"
     ]
    },
    {
     "data": {
      "text/plain": [
       "<keras.callbacks.History at 0x1f1a48287c0>"
      ]
     },
     "execution_count": 27,
     "metadata": {},
     "output_type": "execute_result"
    }
   ],
   "source": [
    "model3.fit(x_train, y_train, epochs = 30)"
   ]
  },
  {
   "cell_type": "code",
   "execution_count": 28,
   "metadata": {},
   "outputs": [
    {
     "name": "stdout",
     "output_type": "stream",
     "text": [
      "4/4 [==============================] - 0s 0s/step - loss: 0.5775 - accuracy: 0.3860\n",
      "Accuracy on validation set:  0.38596490025520325\n"
     ]
    }
   ],
   "source": [
    "accuracy = model3.evaluate(x_test,y_test)\n",
    "print(\"Accuracy on validation set: \", accuracy[1])"
   ]
  },
  {
   "cell_type": "code",
   "execution_count": 29,
   "metadata": {},
   "outputs": [],
   "source": [
    "model4 = tf.keras.models.Sequential([\n",
    "  Dense(32, input_shape=(30,), activation='relu'),\n",
    "  Dense(32, activation='relu'),\n",
    "  Dense(1, activation='softmax')\n",
    "])"
   ]
  },
  {
   "cell_type": "code",
   "execution_count": 30,
   "metadata": {},
   "outputs": [],
   "source": [
    "model4.compile(optimizer = \"adam\", loss = \"binary_crossentropy\",\n",
    "               metrics = [\"accuracy\"])"
   ]
  },
  {
   "cell_type": "code",
   "execution_count": 31,
   "metadata": {},
   "outputs": [
    {
     "name": "stdout",
     "output_type": "stream",
     "text": [
      "Epoch 1/40\n",
      "15/15 [==============================] - 1s 3ms/step - loss: 0.5956 - accuracy: 0.3692\n",
      "Epoch 2/40\n",
      "15/15 [==============================] - 0s 713us/step - loss: 0.4171 - accuracy: 0.3692\n",
      "Epoch 3/40\n",
      "15/15 [==============================] - 0s 908us/step - loss: 0.2946 - accuracy: 0.3692\n",
      "Epoch 4/40\n",
      "15/15 [==============================] - 0s 2ms/step - loss: 0.2082 - accuracy: 0.3692\n",
      "Epoch 5/40\n",
      "15/15 [==============================] - 0s 2ms/step - loss: 0.1543 - accuracy: 0.3692\n",
      "Epoch 6/40\n",
      "15/15 [==============================] - 0s 2ms/step - loss: 0.1228 - accuracy: 0.3692\n",
      "Epoch 7/40\n",
      "15/15 [==============================] - 0s 2ms/step - loss: 0.1022 - accuracy: 0.3692\n",
      "Epoch 8/40\n",
      "15/15 [==============================] - 0s 2ms/step - loss: 0.0884 - accuracy: 0.3692\n",
      "Epoch 9/40\n",
      "15/15 [==============================] - 0s 2ms/step - loss: 0.0780 - accuracy: 0.3692\n",
      "Epoch 10/40\n",
      "15/15 [==============================] - 0s 1ms/step - loss: 0.0706 - accuracy: 0.3692\n",
      "Epoch 11/40\n",
      "15/15 [==============================] - 0s 2ms/step - loss: 0.0646 - accuracy: 0.3692\n",
      "Epoch 12/40\n",
      "15/15 [==============================] - 0s 3ms/step - loss: 0.0599 - accuracy: 0.3692\n",
      "Epoch 13/40\n",
      "15/15 [==============================] - 0s 2ms/step - loss: 0.0561 - accuracy: 0.3692\n",
      "Epoch 14/40\n",
      "15/15 [==============================] - 0s 846us/step - loss: 0.0524 - accuracy: 0.3692\n",
      "Epoch 15/40\n",
      "15/15 [==============================] - 0s 2ms/step - loss: 0.0491 - accuracy: 0.3692\n",
      "Epoch 16/40\n",
      "15/15 [==============================] - 0s 2ms/step - loss: 0.0462 - accuracy: 0.3692\n",
      "Epoch 17/40\n",
      "15/15 [==============================] - 0s 2ms/step - loss: 0.0432 - accuracy: 0.3692\n",
      "Epoch 18/40\n",
      "15/15 [==============================] - 0s 2ms/step - loss: 0.0411 - accuracy: 0.3692\n",
      "Epoch 19/40\n",
      "15/15 [==============================] - 0s 2ms/step - loss: 0.0387 - accuracy: 0.3692\n",
      "Epoch 20/40\n",
      "15/15 [==============================] - 0s 2ms/step - loss: 0.0371 - accuracy: 0.3692\n",
      "Epoch 21/40\n",
      "15/15 [==============================] - 0s 2ms/step - loss: 0.0354 - accuracy: 0.3692\n",
      "Epoch 22/40\n",
      "15/15 [==============================] - 0s 1ms/step - loss: 0.0335 - accuracy: 0.3692\n",
      "Epoch 23/40\n",
      "15/15 [==============================] - 0s 2ms/step - loss: 0.0320 - accuracy: 0.3692\n",
      "Epoch 24/40\n",
      "15/15 [==============================] - 0s 2ms/step - loss: 0.0305 - accuracy: 0.3692\n",
      "Epoch 25/40\n",
      "15/15 [==============================] - 0s 2ms/step - loss: 0.0293 - accuracy: 0.3692\n",
      "Epoch 26/40\n",
      "15/15 [==============================] - 0s 1ms/step - loss: 0.0279 - accuracy: 0.3692\n",
      "Epoch 27/40\n",
      "15/15 [==============================] - 0s 2ms/step - loss: 0.0268 - accuracy: 0.3692\n",
      "Epoch 28/40\n",
      "15/15 [==============================] - 0s 3ms/step - loss: 0.0257 - accuracy: 0.3692\n",
      "Epoch 29/40\n",
      "15/15 [==============================] - 0s 2ms/step - loss: 0.0246 - accuracy: 0.3692\n",
      "Epoch 30/40\n",
      "15/15 [==============================] - 0s 1ms/step - loss: 0.0250 - accuracy: 0.3692\n",
      "Epoch 31/40\n",
      "15/15 [==============================] - 0s 2ms/step - loss: 0.0229 - accuracy: 0.3692\n",
      "Epoch 32/40\n",
      "15/15 [==============================] - 0s 2ms/step - loss: 0.0213 - accuracy: 0.3692\n",
      "Epoch 33/40\n",
      "15/15 [==============================] - 0s 2ms/step - loss: 0.0206 - accuracy: 0.3692\n",
      "Epoch 34/40\n",
      "15/15 [==============================] - 0s 2ms/step - loss: 0.0195 - accuracy: 0.3692\n",
      "Epoch 35/40\n",
      "15/15 [==============================] - 0s 2ms/step - loss: 0.0186 - accuracy: 0.3692\n",
      "Epoch 36/40\n",
      "15/15 [==============================] - 0s 2ms/step - loss: 0.0177 - accuracy: 0.3692\n",
      "Epoch 37/40\n",
      "15/15 [==============================] - 0s 1ms/step - loss: 0.0173 - accuracy: 0.3692\n",
      "Epoch 38/40\n",
      "15/15 [==============================] - 0s 2ms/step - loss: 0.0163 - accuracy: 0.3692\n",
      "Epoch 39/40\n",
      "15/15 [==============================] - 0s 2ms/step - loss: 0.0154 - accuracy: 0.3692\n",
      "Epoch 40/40\n",
      "15/15 [==============================] - 0s 1ms/step - loss: 0.0146 - accuracy: 0.3692\n"
     ]
    },
    {
     "data": {
      "text/plain": [
       "<keras.callbacks.History at 0x1f1a5937b20>"
      ]
     },
     "execution_count": 31,
     "metadata": {},
     "output_type": "execute_result"
    }
   ],
   "source": [
    "model4.fit(x_train, y_train, epochs = 40)"
   ]
  },
  {
   "cell_type": "code",
   "execution_count": 32,
   "metadata": {},
   "outputs": [
    {
     "name": "stdout",
     "output_type": "stream",
     "text": [
      "4/4 [==============================] - 0s 2ms/step - loss: 0.1278 - accuracy: 0.3860\n",
      "Accuracy on validation set:  0.38596490025520325\n"
     ]
    }
   ],
   "source": [
    "accuracy = model4.evaluate(x_test,y_test)\n",
    "print(\"Accuracy on validation set: \", accuracy[1])"
   ]
  },
  {
   "cell_type": "code",
   "execution_count": 33,
   "metadata": {},
   "outputs": [],
   "source": [
    "model5 = tf.keras.models.Sequential([\n",
    "  Dense(32, input_shape=(30,), activation='tanh'),\n",
    "  Dense(32, activation='tanh'),\n",
    "  Dense(1, activation='tanh')\n",
    "])"
   ]
  },
  {
   "cell_type": "code",
   "execution_count": 34,
   "metadata": {},
   "outputs": [],
   "source": [
    "model5.compile(loss=\"binary_crossentropy\", optimizer=\"sgd\", metrics=[\"accuracy\"])"
   ]
  },
  {
   "cell_type": "code",
   "execution_count": 35,
   "metadata": {},
   "outputs": [
    {
     "name": "stdout",
     "output_type": "stream",
     "text": [
      "Epoch 1/50\n",
      "15/15 [==============================] - 0s 2ms/step - loss: 4.1154 - accuracy: 0.5055\n",
      "Epoch 2/50\n",
      "15/15 [==============================] - 0s 2ms/step - loss: 1.1360 - accuracy: 0.7890\n",
      "Epoch 3/50\n",
      "15/15 [==============================] - 0s 2ms/step - loss: 0.3396 - accuracy: 0.9143\n",
      "Epoch 4/50\n",
      "15/15 [==============================] - 0s 2ms/step - loss: 0.3006 - accuracy: 0.9253\n",
      "Epoch 5/50\n",
      "15/15 [==============================] - 0s 1ms/step - loss: 0.2734 - accuracy: 0.9451\n",
      "Epoch 6/50\n",
      "15/15 [==============================] - 0s 2ms/step - loss: 0.2492 - accuracy: 0.9473\n",
      "Epoch 7/50\n",
      "15/15 [==============================] - 0s 2ms/step - loss: 0.2619 - accuracy: 0.9516\n",
      "Epoch 8/50\n",
      "15/15 [==============================] - 0s 952us/step - loss: 0.2498 - accuracy: 0.9538\n",
      "Epoch 9/50\n",
      "15/15 [==============================] - 0s 2ms/step - loss: 0.2417 - accuracy: 0.9560\n",
      "Epoch 10/50\n",
      "15/15 [==============================] - 0s 2ms/step - loss: 0.2360 - accuracy: 0.9582\n",
      "Epoch 11/50\n",
      "15/15 [==============================] - 0s 768us/step - loss: 0.2313 - accuracy: 0.9582\n",
      "Epoch 12/50\n",
      "15/15 [==============================] - 0s 1ms/step - loss: 0.1616 - accuracy: 0.9692\n",
      "Epoch 13/50\n",
      "15/15 [==============================] - 0s 3ms/step - loss: 0.1479 - accuracy: 0.9736\n",
      "Epoch 14/50\n",
      "15/15 [==============================] - 0s 2ms/step - loss: 0.1435 - accuracy: 0.9758\n",
      "Epoch 15/50\n",
      "15/15 [==============================] - 0s 710us/step - loss: 0.1401 - accuracy: 0.9780\n",
      "Epoch 16/50\n",
      "15/15 [==============================] - 0s 2ms/step - loss: 0.1378 - accuracy: 0.9802\n",
      "Epoch 17/50\n",
      "15/15 [==============================] - 0s 2ms/step - loss: 0.1358 - accuracy: 0.9802\n",
      "Epoch 18/50\n",
      "15/15 [==============================] - 0s 2ms/step - loss: 0.1345 - accuracy: 0.9802\n",
      "Epoch 19/50\n",
      "15/15 [==============================] - 0s 2ms/step - loss: 0.1332 - accuracy: 0.9780\n",
      "Epoch 20/50\n",
      "15/15 [==============================] - 0s 2ms/step - loss: 0.1319 - accuracy: 0.9780\n",
      "Epoch 21/50\n",
      "15/15 [==============================] - 0s 2ms/step - loss: 0.1307 - accuracy: 0.9758\n",
      "Epoch 22/50\n",
      "15/15 [==============================] - 0s 2ms/step - loss: 0.1300 - accuracy: 0.9758\n",
      "Epoch 23/50\n",
      "15/15 [==============================] - 0s 2ms/step - loss: 0.1292 - accuracy: 0.9758\n",
      "Epoch 24/50\n",
      "15/15 [==============================] - 0s 2ms/step - loss: 0.1283 - accuracy: 0.9758\n",
      "Epoch 25/50\n",
      "15/15 [==============================] - 0s 1ms/step - loss: 0.1280 - accuracy: 0.9758\n",
      "Epoch 26/50\n",
      "15/15 [==============================] - 0s 2ms/step - loss: 0.1274 - accuracy: 0.9758\n",
      "Epoch 27/50\n",
      "15/15 [==============================] - 0s 1ms/step - loss: 0.1271 - accuracy: 0.9758\n",
      "Epoch 28/50\n",
      "15/15 [==============================] - 0s 1ms/step - loss: 0.1268 - accuracy: 0.9758\n",
      "Epoch 29/50\n",
      "15/15 [==============================] - 0s 2ms/step - loss: 0.1263 - accuracy: 0.9802\n",
      "Epoch 30/50\n",
      "15/15 [==============================] - 0s 2ms/step - loss: 0.1260 - accuracy: 0.9824\n",
      "Epoch 31/50\n",
      "15/15 [==============================] - 0s 1ms/step - loss: 0.1255 - accuracy: 0.9824\n",
      "Epoch 32/50\n",
      "15/15 [==============================] - 0s 1ms/step - loss: 0.1252 - accuracy: 0.9824\n",
      "Epoch 33/50\n",
      "15/15 [==============================] - 0s 3ms/step - loss: 0.1248 - accuracy: 0.9824\n",
      "Epoch 34/50\n",
      "15/15 [==============================] - 0s 2ms/step - loss: 0.1247 - accuracy: 0.9824\n",
      "Epoch 35/50\n",
      "15/15 [==============================] - 0s 836us/step - loss: 0.1243 - accuracy: 0.9824\n",
      "Epoch 36/50\n",
      "15/15 [==============================] - 0s 2ms/step - loss: 0.1238 - accuracy: 0.9824\n",
      "Epoch 37/50\n",
      "15/15 [==============================] - 0s 2ms/step - loss: 0.1236 - accuracy: 0.9824\n",
      "Epoch 38/50\n",
      "15/15 [==============================] - 0s 630us/step - loss: 0.1236 - accuracy: 0.9824\n",
      "Epoch 39/50\n",
      "15/15 [==============================] - 0s 2ms/step - loss: 0.1231 - accuracy: 0.9824\n",
      "Epoch 40/50\n",
      "15/15 [==============================] - 0s 2ms/step - loss: 0.1228 - accuracy: 0.9824\n",
      "Epoch 41/50\n",
      "15/15 [==============================] - 0s 2ms/step - loss: 0.1230 - accuracy: 0.9868\n",
      "Epoch 42/50\n",
      "15/15 [==============================] - 0s 2ms/step - loss: 0.1224 - accuracy: 0.9846\n",
      "Epoch 43/50\n",
      "15/15 [==============================] - 0s 1ms/step - loss: 0.1221 - accuracy: 0.9824\n",
      "Epoch 44/50\n",
      "15/15 [==============================] - 0s 2ms/step - loss: 0.1218 - accuracy: 0.9824\n",
      "Epoch 45/50\n",
      "15/15 [==============================] - 0s 2ms/step - loss: 0.1215 - accuracy: 0.9846\n",
      "Epoch 46/50\n",
      "15/15 [==============================] - 0s 2ms/step - loss: 0.1212 - accuracy: 0.9846\n",
      "Epoch 47/50\n",
      "15/15 [==============================] - 0s 3ms/step - loss: 0.1210 - accuracy: 0.9846\n",
      "Epoch 48/50\n",
      "15/15 [==============================] - 0s 2ms/step - loss: 0.1207 - accuracy: 0.9846\n",
      "Epoch 49/50\n",
      "15/15 [==============================] - 0s 961us/step - loss: 0.1204 - accuracy: 0.9846\n",
      "Epoch 50/50\n",
      "15/15 [==============================] - 0s 2ms/step - loss: 0.1202 - accuracy: 0.9846\n"
     ]
    },
    {
     "data": {
      "text/plain": [
       "<keras.callbacks.History at 0x1f1a6c479d0>"
      ]
     },
     "execution_count": 35,
     "metadata": {},
     "output_type": "execute_result"
    }
   ],
   "source": [
    "model5.fit(x_train, y_train, epochs = 50)"
   ]
  },
  {
   "cell_type": "code",
   "execution_count": 36,
   "metadata": {},
   "outputs": [
    {
     "name": "stdout",
     "output_type": "stream",
     "text": [
      "4/4 [==============================] - 0s 4ms/step - loss: 0.3020 - accuracy: 0.9737\n",
      "Accuracy on validation set:  0.9736841917037964\n"
     ]
    }
   ],
   "source": [
    "accuracy = model5.evaluate(x_test,y_test)\n",
    "print(\"Accuracy on validation set: \", accuracy[1])"
   ]
  },
  {
   "cell_type": "code",
   "execution_count": 37,
   "metadata": {},
   "outputs": [],
   "source": [
    "model6 = tf.keras.models.Sequential([\n",
    "  Dense(32, input_shape=(30,), activation='sigmoid'),\n",
    "  Dense(32, activation='sigmoid'),\n",
    "  Dense(1, activation='sigmoid')\n",
    "])"
   ]
  },
  {
   "cell_type": "code",
   "execution_count": 38,
   "metadata": {},
   "outputs": [],
   "source": [
    "model6.compile(loss=\"binary_crossentropy\", optimizer=\"sgd\", metrics=[\"accuracy\"])"
   ]
  },
  {
   "cell_type": "code",
   "execution_count": 39,
   "metadata": {},
   "outputs": [
    {
     "name": "stdout",
     "output_type": "stream",
     "text": [
      "Epoch 1/60\n",
      "15/15 [==============================] - 0s 2ms/step - loss: 0.6551 - accuracy: 0.6308\n",
      "Epoch 2/60\n",
      "15/15 [==============================] - 0s 2ms/step - loss: 0.6516 - accuracy: 0.6308\n",
      "Epoch 3/60\n",
      "15/15 [==============================] - 0s 1ms/step - loss: 0.6481 - accuracy: 0.6308\n",
      "Epoch 4/60\n",
      "15/15 [==============================] - 0s 2ms/step - loss: 0.6442 - accuracy: 0.6308\n",
      "Epoch 5/60\n",
      "15/15 [==============================] - 0s 2ms/step - loss: 0.6405 - accuracy: 0.6308\n",
      "Epoch 6/60\n",
      "15/15 [==============================] - 0s 2ms/step - loss: 0.6369 - accuracy: 0.6308\n",
      "Epoch 7/60\n",
      "15/15 [==============================] - 0s 986us/step - loss: 0.6334 - accuracy: 0.6308\n",
      "Epoch 8/60\n",
      "15/15 [==============================] - 0s 3ms/step - loss: 0.6296 - accuracy: 0.6308\n",
      "Epoch 9/60\n",
      "15/15 [==============================] - 0s 2ms/step - loss: 0.6260 - accuracy: 0.6308\n",
      "Epoch 10/60\n",
      "15/15 [==============================] - 0s 2ms/step - loss: 0.6222 - accuracy: 0.6308\n",
      "Epoch 11/60\n",
      "15/15 [==============================] - 0s 1ms/step - loss: 0.6185 - accuracy: 0.6308\n",
      "Epoch 12/60\n",
      "15/15 [==============================] - 0s 2ms/step - loss: 0.6148 - accuracy: 0.6308\n",
      "Epoch 13/60\n",
      "15/15 [==============================] - 0s 2ms/step - loss: 0.6110 - accuracy: 0.6308\n",
      "Epoch 14/60\n",
      "15/15 [==============================] - 0s 1ms/step - loss: 0.6075 - accuracy: 0.6308\n",
      "Epoch 15/60\n",
      "15/15 [==============================] - 0s 2ms/step - loss: 0.6040 - accuracy: 0.6308\n",
      "Epoch 16/60\n",
      "15/15 [==============================] - 0s 2ms/step - loss: 0.6003 - accuracy: 0.6308\n",
      "Epoch 17/60\n",
      "15/15 [==============================] - 0s 737us/step - loss: 0.5964 - accuracy: 0.6308\n",
      "Epoch 18/60\n",
      "15/15 [==============================] - 0s 1ms/step - loss: 0.5927 - accuracy: 0.6308\n",
      "Epoch 19/60\n",
      "15/15 [==============================] - 0s 3ms/step - loss: 0.5888 - accuracy: 0.6308\n",
      "Epoch 20/60\n",
      "15/15 [==============================] - 0s 450us/step - loss: 0.5850 - accuracy: 0.6308\n",
      "Epoch 21/60\n",
      "15/15 [==============================] - 0s 1ms/step - loss: 0.5810 - accuracy: 0.6308\n",
      "Epoch 22/60\n",
      "15/15 [==============================] - 0s 2ms/step - loss: 0.5772 - accuracy: 0.6374\n",
      "Epoch 23/60\n",
      "15/15 [==============================] - 0s 2ms/step - loss: 0.5733 - accuracy: 0.6374\n",
      "Epoch 24/60\n",
      "15/15 [==============================] - 0s 1ms/step - loss: 0.5692 - accuracy: 0.6440\n",
      "Epoch 25/60\n",
      "15/15 [==============================] - 0s 3ms/step - loss: 0.5650 - accuracy: 0.6484\n",
      "Epoch 26/60\n",
      "15/15 [==============================] - 0s 592us/step - loss: 0.5611 - accuracy: 0.6527\n",
      "Epoch 27/60\n",
      "15/15 [==============================] - 0s 1ms/step - loss: 0.5566 - accuracy: 0.6593\n",
      "Epoch 28/60\n",
      "15/15 [==============================] - 0s 3ms/step - loss: 0.5526 - accuracy: 0.6681\n",
      "Epoch 29/60\n",
      "15/15 [==============================] - 0s 2ms/step - loss: 0.5482 - accuracy: 0.6703\n",
      "Epoch 30/60\n",
      "15/15 [==============================] - 0s 1ms/step - loss: 0.5440 - accuracy: 0.6769\n",
      "Epoch 31/60\n",
      "15/15 [==============================] - 0s 2ms/step - loss: 0.5397 - accuracy: 0.6879\n",
      "Epoch 32/60\n",
      "15/15 [==============================] - 0s 2ms/step - loss: 0.5355 - accuracy: 0.6967\n",
      "Epoch 33/60\n",
      "15/15 [==============================] - 0s 1ms/step - loss: 0.5312 - accuracy: 0.6945\n",
      "Epoch 34/60\n",
      "15/15 [==============================] - 0s 2ms/step - loss: 0.5262 - accuracy: 0.7077\n",
      "Epoch 35/60\n",
      "15/15 [==============================] - 0s 2ms/step - loss: 0.5221 - accuracy: 0.7121\n",
      "Epoch 36/60\n",
      "15/15 [==============================] - 0s 2ms/step - loss: 0.5173 - accuracy: 0.7275\n",
      "Epoch 37/60\n",
      "15/15 [==============================] - 0s 2ms/step - loss: 0.5128 - accuracy: 0.7407\n",
      "Epoch 38/60\n",
      "15/15 [==============================] - 0s 2ms/step - loss: 0.5079 - accuracy: 0.7604\n",
      "Epoch 39/60\n",
      "15/15 [==============================] - 0s 1ms/step - loss: 0.5034 - accuracy: 0.7736\n",
      "Epoch 40/60\n",
      "15/15 [==============================] - 0s 2ms/step - loss: 0.4987 - accuracy: 0.7758\n",
      "Epoch 41/60\n",
      "15/15 [==============================] - 0s 2ms/step - loss: 0.4939 - accuracy: 0.7824\n",
      "Epoch 42/60\n",
      "15/15 [==============================] - 0s 2ms/step - loss: 0.4888 - accuracy: 0.8308\n",
      "Epoch 43/60\n",
      "15/15 [==============================] - 0s 1ms/step - loss: 0.4840 - accuracy: 0.8176\n",
      "Epoch 44/60\n",
      "15/15 [==============================] - 0s 1ms/step - loss: 0.4791 - accuracy: 0.8286\n",
      "Epoch 45/60\n",
      "15/15 [==============================] - 0s 3ms/step - loss: 0.4742 - accuracy: 0.8418\n",
      "Epoch 46/60\n",
      "15/15 [==============================] - 0s 665us/step - loss: 0.4691 - accuracy: 0.8505\n",
      "Epoch 47/60\n",
      "15/15 [==============================] - 0s 2ms/step - loss: 0.4640 - accuracy: 0.8527\n",
      "Epoch 48/60\n",
      "15/15 [==============================] - 0s 2ms/step - loss: 0.4593 - accuracy: 0.8527\n",
      "Epoch 49/60\n",
      "15/15 [==============================] - 0s 2ms/step - loss: 0.4541 - accuracy: 0.8571\n",
      "Epoch 50/60\n",
      "15/15 [==============================] - 0s 2ms/step - loss: 0.4492 - accuracy: 0.8615\n",
      "Epoch 51/60\n",
      "15/15 [==============================] - 0s 2ms/step - loss: 0.4442 - accuracy: 0.8593\n",
      "Epoch 52/60\n",
      "15/15 [==============================] - 0s 2ms/step - loss: 0.4392 - accuracy: 0.8681\n",
      "Epoch 53/60\n",
      "15/15 [==============================] - 0s 2ms/step - loss: 0.4342 - accuracy: 0.8681\n",
      "Epoch 54/60\n",
      "15/15 [==============================] - 0s 2ms/step - loss: 0.4292 - accuracy: 0.8747\n",
      "Epoch 55/60\n",
      "15/15 [==============================] - 0s 1ms/step - loss: 0.4240 - accuracy: 0.8813\n",
      "Epoch 56/60\n",
      "15/15 [==============================] - 0s 2ms/step - loss: 0.4190 - accuracy: 0.8835\n",
      "Epoch 57/60\n",
      "15/15 [==============================] - 0s 1ms/step - loss: 0.4141 - accuracy: 0.8857\n",
      "Epoch 58/60\n",
      "15/15 [==============================] - 0s 2ms/step - loss: 0.4092 - accuracy: 0.8879\n",
      "Epoch 59/60\n",
      "15/15 [==============================] - 0s 2ms/step - loss: 0.4040 - accuracy: 0.8879\n",
      "Epoch 60/60\n",
      "15/15 [==============================] - 0s 2ms/step - loss: 0.3991 - accuracy: 0.8945\n"
     ]
    },
    {
     "data": {
      "text/plain": [
       "<keras.callbacks.History at 0x1f1a6d03b80>"
      ]
     },
     "execution_count": 39,
     "metadata": {},
     "output_type": "execute_result"
    }
   ],
   "source": [
    "model6.fit(x_train, y_train, epochs = 60)"
   ]
  },
  {
   "cell_type": "code",
   "execution_count": 40,
   "metadata": {},
   "outputs": [
    {
     "name": "stdout",
     "output_type": "stream",
     "text": [
      "4/4 [==============================] - 0s 2ms/step - loss: 0.3997 - accuracy: 0.8947\n",
      "Accuracy on validation set:  0.8947368264198303\n"
     ]
    }
   ],
   "source": [
    "accuracy = model6.evaluate(x_test,y_test)\n",
    "print(\"Accuracy on validation set: \", accuracy[1])"
   ]
  },
  {
   "cell_type": "code",
   "execution_count": 41,
   "metadata": {},
   "outputs": [],
   "source": [
    "model7 = tf.keras.models.Sequential([\n",
    "  Dense(32, input_shape=(30,), activation='relu'),\n",
    "  Dense(32, activation='relu'),\n",
    "  Dense(1, activation='relu')\n",
    "])"
   ]
  },
  {
   "cell_type": "code",
   "execution_count": 42,
   "metadata": {},
   "outputs": [],
   "source": [
    "model7.compile(loss=\"binary_crossentropy\", optimizer=\"RMSprop\", metrics=[\"accuracy\"])"
   ]
  },
  {
   "cell_type": "code",
   "execution_count": 43,
   "metadata": {},
   "outputs": [
    {
     "name": "stdout",
     "output_type": "stream",
     "text": [
      "Epoch 1/100\n",
      "15/15 [==============================] - 1s 2ms/step - loss: 3.9578 - accuracy: 0.6703\n",
      "Epoch 2/100\n",
      "15/15 [==============================] - 0s 2ms/step - loss: 0.9156 - accuracy: 0.8286\n",
      "Epoch 3/100\n",
      "15/15 [==============================] - 0s 2ms/step - loss: 0.4133 - accuracy: 0.9231\n",
      "Epoch 4/100\n",
      "15/15 [==============================] - 0s 1ms/step - loss: 0.2764 - accuracy: 0.9451\n",
      "Epoch 5/100\n",
      "15/15 [==============================] - 0s 3ms/step - loss: 0.2461 - accuracy: 0.9495\n",
      "Epoch 6/100\n",
      "15/15 [==============================] - 0s 2ms/step - loss: 0.2341 - accuracy: 0.9648\n",
      "Epoch 7/100\n",
      "15/15 [==============================] - 0s 1ms/step - loss: 0.1954 - accuracy: 0.9648\n",
      "Epoch 8/100\n",
      "15/15 [==============================] - 0s 2ms/step - loss: 0.1039 - accuracy: 0.9714\n",
      "Epoch 9/100\n",
      "15/15 [==============================] - 0s 1ms/step - loss: 0.0867 - accuracy: 0.9670\n",
      "Epoch 10/100\n",
      "15/15 [==============================] - 0s 2ms/step - loss: 0.0796 - accuracy: 0.9714\n",
      "Epoch 11/100\n",
      "15/15 [==============================] - 0s 3ms/step - loss: 0.0737 - accuracy: 0.9780\n",
      "Epoch 12/100\n",
      "15/15 [==============================] - 0s 2ms/step - loss: 0.0664 - accuracy: 0.9824\n",
      "Epoch 13/100\n",
      "15/15 [==============================] - 0s 2ms/step - loss: 0.0623 - accuracy: 0.9890\n",
      "Epoch 14/100\n",
      "15/15 [==============================] - 0s 2ms/step - loss: 0.0581 - accuracy: 0.9890\n",
      "Epoch 15/100\n",
      "15/15 [==============================] - 0s 2ms/step - loss: 0.0557 - accuracy: 0.9890\n",
      "Epoch 16/100\n",
      "15/15 [==============================] - 0s 2ms/step - loss: 0.0529 - accuracy: 0.9890\n",
      "Epoch 17/100\n",
      "15/15 [==============================] - 0s 2ms/step - loss: 0.0499 - accuracy: 0.9934\n",
      "Epoch 18/100\n",
      "15/15 [==============================] - 0s 2ms/step - loss: 0.0475 - accuracy: 0.9956\n",
      "Epoch 19/100\n",
      "15/15 [==============================] - 0s 2ms/step - loss: 0.0456 - accuracy: 0.9934\n",
      "Epoch 20/100\n",
      "15/15 [==============================] - 0s 879us/step - loss: 0.0445 - accuracy: 0.9934\n",
      "Epoch 21/100\n",
      "15/15 [==============================] - 0s 1ms/step - loss: 0.0434 - accuracy: 0.9956\n",
      "Epoch 22/100\n",
      "15/15 [==============================] - 0s 3ms/step - loss: 0.0429 - accuracy: 0.9934\n",
      "Epoch 23/100\n",
      "15/15 [==============================] - 0s 2ms/step - loss: 0.0407 - accuracy: 0.9956\n",
      "Epoch 24/100\n",
      "15/15 [==============================] - 0s 2ms/step - loss: 0.0403 - accuracy: 0.9956\n",
      "Epoch 25/100\n",
      "15/15 [==============================] - 0s 2ms/step - loss: 0.0394 - accuracy: 0.9956\n",
      "Epoch 26/100\n",
      "15/15 [==============================] - 0s 2ms/step - loss: 0.0380 - accuracy: 0.9978\n",
      "Epoch 27/100\n",
      "15/15 [==============================] - 0s 1ms/step - loss: 0.0383 - accuracy: 0.9978\n",
      "Epoch 28/100\n",
      "15/15 [==============================] - 0s 2ms/step - loss: 0.0366 - accuracy: 0.9978\n",
      "Epoch 29/100\n",
      "15/15 [==============================] - 0s 2ms/step - loss: 0.0363 - accuracy: 0.9978\n",
      "Epoch 30/100\n",
      "15/15 [==============================] - 0s 2ms/step - loss: 0.0361 - accuracy: 0.9978\n",
      "Epoch 31/100\n",
      "15/15 [==============================] - 0s 949us/step - loss: 0.0358 - accuracy: 0.9978\n",
      "Epoch 32/100\n",
      "15/15 [==============================] - 0s 1ms/step - loss: 0.0352 - accuracy: 0.9978\n",
      "Epoch 33/100\n",
      "15/15 [==============================] - 0s 2ms/step - loss: 0.0351 - accuracy: 0.9978\n",
      "Epoch 34/100\n",
      "15/15 [==============================] - 0s 3ms/step - loss: 0.0348 - accuracy: 0.9978\n",
      "Epoch 35/100\n",
      "15/15 [==============================] - 0s 2ms/step - loss: 0.0343 - accuracy: 0.9978\n",
      "Epoch 36/100\n",
      "15/15 [==============================] - 0s 907us/step - loss: 0.0349 - accuracy: 0.9978\n",
      "Epoch 37/100\n",
      "15/15 [==============================] - 0s 2ms/step - loss: 0.0344 - accuracy: 0.9978\n",
      "Epoch 38/100\n",
      "15/15 [==============================] - 0s 2ms/step - loss: 0.0342 - accuracy: 0.9978\n",
      "Epoch 39/100\n",
      "15/15 [==============================] - 0s 2ms/step - loss: 0.0341 - accuracy: 0.9978\n",
      "Epoch 40/100\n",
      "15/15 [==============================] - 0s 2ms/step - loss: 0.0340 - accuracy: 0.9978\n",
      "Epoch 41/100\n",
      "15/15 [==============================] - 0s 2ms/step - loss: 0.0340 - accuracy: 0.9978\n",
      "Epoch 42/100\n",
      "15/15 [==============================] - 0s 1ms/step - loss: 0.0341 - accuracy: 0.9978\n",
      "Epoch 43/100\n",
      "15/15 [==============================] - 0s 1ms/step - loss: 0.0339 - accuracy: 0.9978\n",
      "Epoch 44/100\n",
      "15/15 [==============================] - 0s 3ms/step - loss: 0.0339 - accuracy: 0.9978\n",
      "Epoch 45/100\n",
      "15/15 [==============================] - 0s 2ms/step - loss: 0.0339 - accuracy: 0.9978\n",
      "Epoch 46/100\n",
      "15/15 [==============================] - 0s 2ms/step - loss: 0.0339 - accuracy: 0.9978\n",
      "Epoch 47/100\n",
      "15/15 [==============================] - 0s 2ms/step - loss: 0.0339 - accuracy: 0.9978\n",
      "Epoch 48/100\n",
      "15/15 [==============================] - 0s 1ms/step - loss: 0.0339 - accuracy: 0.9978\n",
      "Epoch 49/100\n",
      "15/15 [==============================] - 0s 2ms/step - loss: 0.0339 - accuracy: 0.9978\n",
      "Epoch 50/100\n",
      "15/15 [==============================] - 0s 1ms/step - loss: 0.0339 - accuracy: 0.9978\n",
      "Epoch 51/100\n",
      "15/15 [==============================] - 0s 1ms/step - loss: 0.0339 - accuracy: 0.9978\n",
      "Epoch 52/100\n",
      "15/15 [==============================] - 0s 3ms/step - loss: 0.0339 - accuracy: 0.9978\n",
      "Epoch 53/100\n",
      "15/15 [==============================] - 0s 2ms/step - loss: 0.0339 - accuracy: 0.9978\n",
      "Epoch 54/100\n",
      "15/15 [==============================] - 0s 2ms/step - loss: 0.0339 - accuracy: 0.9978\n",
      "Epoch 55/100\n",
      "15/15 [==============================] - 0s 2ms/step - loss: 0.0339 - accuracy: 0.9978\n",
      "Epoch 56/100\n",
      "15/15 [==============================] - 0s 1ms/step - loss: 0.0339 - accuracy: 0.9978\n",
      "Epoch 57/100\n",
      "15/15 [==============================] - 0s 2ms/step - loss: 0.0339 - accuracy: 0.9978\n",
      "Epoch 58/100\n",
      "15/15 [==============================] - 0s 2ms/step - loss: 0.0339 - accuracy: 0.9978\n",
      "Epoch 59/100\n",
      "15/15 [==============================] - 0s 1ms/step - loss: 0.0339 - accuracy: 0.9978\n",
      "Epoch 60/100\n",
      "15/15 [==============================] - 0s 2ms/step - loss: 0.0339 - accuracy: 0.9978\n",
      "Epoch 61/100\n",
      "15/15 [==============================] - 0s 1ms/step - loss: 0.0339 - accuracy: 0.9978\n",
      "Epoch 62/100\n",
      "15/15 [==============================] - 0s 2ms/step - loss: 0.0339 - accuracy: 0.9978\n",
      "Epoch 63/100\n",
      "15/15 [==============================] - 0s 1ms/step - loss: 0.0339 - accuracy: 0.9978\n",
      "Epoch 64/100\n",
      "15/15 [==============================] - 0s 1ms/step - loss: 0.0339 - accuracy: 0.9978\n",
      "Epoch 65/100\n",
      "15/15 [==============================] - 0s 2ms/step - loss: 0.0339 - accuracy: 0.9978\n",
      "Epoch 66/100\n",
      "15/15 [==============================] - 0s 2ms/step - loss: 0.0339 - accuracy: 0.9978\n",
      "Epoch 67/100\n",
      "15/15 [==============================] - 0s 2ms/step - loss: 0.0339 - accuracy: 0.9978\n",
      "Epoch 68/100\n",
      "15/15 [==============================] - 0s 2ms/step - loss: 0.0339 - accuracy: 0.9978\n",
      "Epoch 69/100\n",
      "15/15 [==============================] - 0s 2ms/step - loss: 0.0339 - accuracy: 0.9978\n",
      "Epoch 70/100\n",
      "15/15 [==============================] - 0s 1ms/step - loss: 0.0339 - accuracy: 0.9978\n",
      "Epoch 71/100\n",
      "15/15 [==============================] - 0s 2ms/step - loss: 0.0339 - accuracy: 0.9978\n",
      "Epoch 72/100\n",
      "15/15 [==============================] - 0s 3ms/step - loss: 0.0339 - accuracy: 0.9978\n",
      "Epoch 73/100\n",
      "15/15 [==============================] - 0s 2ms/step - loss: 0.0339 - accuracy: 0.9978\n",
      "Epoch 74/100\n",
      "15/15 [==============================] - 0s 2ms/step - loss: 0.0339 - accuracy: 0.9978\n",
      "Epoch 75/100\n",
      "15/15 [==============================] - 0s 2ms/step - loss: 0.0339 - accuracy: 0.9978\n",
      "Epoch 76/100\n",
      "15/15 [==============================] - 0s 2ms/step - loss: 0.0339 - accuracy: 0.9978\n",
      "Epoch 77/100\n",
      "15/15 [==============================] - 0s 2ms/step - loss: 0.0339 - accuracy: 0.9978\n",
      "Epoch 78/100\n",
      "15/15 [==============================] - 0s 3ms/step - loss: 0.0339 - accuracy: 0.9978\n",
      "Epoch 79/100\n",
      "15/15 [==============================] - 0s 2ms/step - loss: 0.0339 - accuracy: 0.9978\n",
      "Epoch 80/100\n",
      "15/15 [==============================] - 0s 2ms/step - loss: 0.0339 - accuracy: 0.9978\n",
      "Epoch 81/100\n",
      "15/15 [==============================] - 0s 2ms/step - loss: 0.0339 - accuracy: 0.9978\n",
      "Epoch 82/100\n"
     ]
    },
    {
     "name": "stdout",
     "output_type": "stream",
     "text": [
      "15/15 [==============================] - 0s 2ms/step - loss: 0.0339 - accuracy: 0.9978\n",
      "Epoch 83/100\n",
      "15/15 [==============================] - 0s 947us/step - loss: 0.0339 - accuracy: 0.9978\n",
      "Epoch 84/100\n",
      "15/15 [==============================] - 0s 1ms/step - loss: 0.0339 - accuracy: 0.9978\n",
      "Epoch 85/100\n",
      "15/15 [==============================] - 0s 3ms/step - loss: 0.0339 - accuracy: 0.9978\n",
      "Epoch 86/100\n",
      "15/15 [==============================] - 0s 2ms/step - loss: 0.0339 - accuracy: 0.9978\n",
      "Epoch 87/100\n",
      "15/15 [==============================] - 0s 989us/step - loss: 0.0339 - accuracy: 0.9978\n",
      "Epoch 88/100\n",
      "15/15 [==============================] - 0s 2ms/step - loss: 0.0339 - accuracy: 0.9978\n",
      "Epoch 89/100\n",
      "15/15 [==============================] - 0s 1ms/step - loss: 0.0339 - accuracy: 0.9978\n",
      "Epoch 90/100\n",
      "15/15 [==============================] - 0s 3ms/step - loss: 0.0339 - accuracy: 0.9978\n",
      "Epoch 91/100\n",
      "15/15 [==============================] - 0s 2ms/step - loss: 0.0339 - accuracy: 0.9978\n",
      "Epoch 92/100\n",
      "15/15 [==============================] - 0s 1ms/step - loss: 0.0339 - accuracy: 0.9978\n",
      "Epoch 93/100\n",
      "15/15 [==============================] - 0s 2ms/step - loss: 0.0339 - accuracy: 0.9978\n",
      "Epoch 94/100\n",
      "15/15 [==============================] - 0s 1ms/step - loss: 0.0339 - accuracy: 0.9978\n",
      "Epoch 95/100\n",
      "15/15 [==============================] - 0s 3ms/step - loss: 0.0339 - accuracy: 0.9978\n",
      "Epoch 96/100\n",
      "15/15 [==============================] - 0s 2ms/step - loss: 0.0339 - accuracy: 0.9978\n",
      "Epoch 97/100\n",
      "15/15 [==============================] - 0s 808us/step - loss: 0.0339 - accuracy: 0.9978\n",
      "Epoch 98/100\n",
      "15/15 [==============================] - 0s 1ms/step - loss: 0.0339 - accuracy: 0.9978\n",
      "Epoch 99/100\n",
      "15/15 [==============================] - 0s 3ms/step - loss: 0.0339 - accuracy: 0.9978\n",
      "Epoch 100/100\n",
      "15/15 [==============================] - 0s 2ms/step - loss: 0.0339 - accuracy: 0.9978\n"
     ]
    },
    {
     "data": {
      "text/plain": [
       "<keras.callbacks.History at 0x1f1a7e4b460>"
      ]
     },
     "execution_count": 43,
     "metadata": {},
     "output_type": "execute_result"
    }
   ],
   "source": [
    "model7.fit(x_train, y_train, epochs = 100)"
   ]
  },
  {
   "cell_type": "code",
   "execution_count": 44,
   "metadata": {},
   "outputs": [
    {
     "name": "stdout",
     "output_type": "stream",
     "text": [
      "4/4 [==============================] - 0s 2ms/step - loss: 0.2962 - accuracy: 0.9737\n",
      "Accuracy on validation set:  0.9736841917037964\n"
     ]
    }
   ],
   "source": [
    "accuracy = model7.evaluate(x_test,y_test)\n",
    "print(\"Accuracy on validation set: \", accuracy[1])"
   ]
  },
  {
   "cell_type": "code",
   "execution_count": null,
   "metadata": {},
   "outputs": [],
   "source": []
  }
 ],
 "metadata": {
  "accelerator": "GPU",
  "colab": {
   "provenance": []
  },
  "gpuClass": "standard",
  "kernelspec": {
   "display_name": "Python 3 (ipykernel)",
   "language": "python",
   "name": "python3"
  },
  "language_info": {
   "codemirror_mode": {
    "name": "ipython",
    "version": 3
   },
   "file_extension": ".py",
   "mimetype": "text/x-python",
   "name": "python",
   "nbconvert_exporter": "python",
   "pygments_lexer": "ipython3",
   "version": "3.9.7"
  }
 },
 "nbformat": 4,
 "nbformat_minor": 1
}
