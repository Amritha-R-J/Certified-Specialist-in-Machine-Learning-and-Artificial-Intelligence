{
 "cells": [
  {
   "cell_type": "markdown",
   "metadata": {},
   "source": [
    "## Assignment to reduce MSE on ANN models"
   ]
  },
  {
   "cell_type": "markdown",
   "metadata": {},
   "source": [
    "### Prepared by: Amritha R J"
   ]
  },
  {
   "cell_type": "code",
   "execution_count": 1,
   "metadata": {
    "id": "NBIDZr3v1Nvv"
   },
   "outputs": [],
   "source": [
    "import pandas as pd\n",
    "import numpy as np"
   ]
  },
  {
   "cell_type": "code",
   "execution_count": 2,
   "metadata": {
    "id": "CcBi5z4n1t80"
   },
   "outputs": [],
   "source": [
    "data = pd.read_csv(\"diamonds_new.csv\")"
   ]
  },
  {
   "cell_type": "code",
   "execution_count": 3,
   "metadata": {
    "colab": {
     "base_uri": "https://localhost:8080/",
     "height": 206
    },
    "id": "-ZyHsHf91zht",
    "outputId": "6073a958-b100-494d-822e-247f05061bd6"
   },
   "outputs": [
    {
     "data": {
      "text/html": [
       "<div>\n",
       "<style scoped>\n",
       "    .dataframe tbody tr th:only-of-type {\n",
       "        vertical-align: middle;\n",
       "    }\n",
       "\n",
       "    .dataframe tbody tr th {\n",
       "        vertical-align: top;\n",
       "    }\n",
       "\n",
       "    .dataframe thead th {\n",
       "        text-align: right;\n",
       "    }\n",
       "</style>\n",
       "<table border=\"1\" class=\"dataframe\">\n",
       "  <thead>\n",
       "    <tr style=\"text-align: right;\">\n",
       "      <th></th>\n",
       "      <th>carat</th>\n",
       "      <th>cut</th>\n",
       "      <th>color</th>\n",
       "      <th>clarity</th>\n",
       "      <th>table</th>\n",
       "      <th>x</th>\n",
       "      <th>y</th>\n",
       "      <th>z</th>\n",
       "      <th>price_new</th>\n",
       "    </tr>\n",
       "  </thead>\n",
       "  <tbody>\n",
       "    <tr>\n",
       "      <th>0</th>\n",
       "      <td>0.23</td>\n",
       "      <td>Ideal</td>\n",
       "      <td>E</td>\n",
       "      <td>SI2</td>\n",
       "      <td>55.0</td>\n",
       "      <td>3.95</td>\n",
       "      <td>3.98</td>\n",
       "      <td>2.43</td>\n",
       "      <td>163.0</td>\n",
       "    </tr>\n",
       "    <tr>\n",
       "      <th>1</th>\n",
       "      <td>0.21</td>\n",
       "      <td>Premium</td>\n",
       "      <td>E</td>\n",
       "      <td>SI1</td>\n",
       "      <td>61.0</td>\n",
       "      <td>3.89</td>\n",
       "      <td>3.84</td>\n",
       "      <td>2.31</td>\n",
       "      <td>163.0</td>\n",
       "    </tr>\n",
       "    <tr>\n",
       "      <th>2</th>\n",
       "      <td>0.23</td>\n",
       "      <td>Good</td>\n",
       "      <td>E</td>\n",
       "      <td>VS1</td>\n",
       "      <td>65.0</td>\n",
       "      <td>4.05</td>\n",
       "      <td>4.07</td>\n",
       "      <td>2.31</td>\n",
       "      <td>163.5</td>\n",
       "    </tr>\n",
       "    <tr>\n",
       "      <th>3</th>\n",
       "      <td>0.29</td>\n",
       "      <td>Premium</td>\n",
       "      <td>I</td>\n",
       "      <td>VS2</td>\n",
       "      <td>58.0</td>\n",
       "      <td>4.20</td>\n",
       "      <td>4.23</td>\n",
       "      <td>2.63</td>\n",
       "      <td>167.0</td>\n",
       "    </tr>\n",
       "    <tr>\n",
       "      <th>4</th>\n",
       "      <td>0.31</td>\n",
       "      <td>Good</td>\n",
       "      <td>J</td>\n",
       "      <td>SI2</td>\n",
       "      <td>58.0</td>\n",
       "      <td>4.34</td>\n",
       "      <td>4.35</td>\n",
       "      <td>2.75</td>\n",
       "      <td>167.5</td>\n",
       "    </tr>\n",
       "  </tbody>\n",
       "</table>\n",
       "</div>"
      ],
      "text/plain": [
       "   carat      cut color clarity  table     x     y     z  price_new\n",
       "0   0.23    Ideal     E     SI2   55.0  3.95  3.98  2.43      163.0\n",
       "1   0.21  Premium     E     SI1   61.0  3.89  3.84  2.31      163.0\n",
       "2   0.23     Good     E     VS1   65.0  4.05  4.07  2.31      163.5\n",
       "3   0.29  Premium     I     VS2   58.0  4.20  4.23  2.63      167.0\n",
       "4   0.31     Good     J     SI2   58.0  4.34  4.35  2.75      167.5"
      ]
     },
     "execution_count": 3,
     "metadata": {},
     "output_type": "execute_result"
    }
   ],
   "source": [
    "data.head()"
   ]
  },
  {
   "cell_type": "code",
   "execution_count": 4,
   "metadata": {
    "colab": {
     "base_uri": "https://localhost:8080/"
    },
    "id": "sg_MvW-611vg",
    "outputId": "90aa009d-5b46-4a15-9c4b-acda1d8b0f84"
   },
   "outputs": [
    {
     "name": "stdout",
     "output_type": "stream",
     "text": [
      "<class 'pandas.core.frame.DataFrame'>\n",
      "RangeIndex: 53940 entries, 0 to 53939\n",
      "Data columns (total 9 columns):\n",
      " #   Column     Non-Null Count  Dtype  \n",
      "---  ------     --------------  -----  \n",
      " 0   carat      53841 non-null  float64\n",
      " 1   cut        53940 non-null  object \n",
      " 2   color      53884 non-null  object \n",
      " 3   clarity    53940 non-null  object \n",
      " 4   table      53877 non-null  float64\n",
      " 5   x          53940 non-null  float64\n",
      " 6   y          53940 non-null  float64\n",
      " 7   z          53940 non-null  float64\n",
      " 8   price_new  53940 non-null  float64\n",
      "dtypes: float64(6), object(3)\n",
      "memory usage: 3.7+ MB\n"
     ]
    }
   ],
   "source": [
    "data.info()"
   ]
  },
  {
   "cell_type": "code",
   "execution_count": 5,
   "metadata": {
    "id": "dZR65art3DGf"
   },
   "outputs": [],
   "source": [
    "### handling null values"
   ]
  },
  {
   "cell_type": "code",
   "execution_count": 6,
   "metadata": {
    "colab": {
     "base_uri": "https://localhost:8080/"
    },
    "id": "JiB67XR13MKP",
    "outputId": "95268fee-f9e0-4894-f6a7-cd56ea1ae2b9"
   },
   "outputs": [
    {
     "data": {
      "text/plain": [
       "carat        99\n",
       "cut           0\n",
       "color        56\n",
       "clarity       0\n",
       "table        63\n",
       "x             0\n",
       "y             0\n",
       "z             0\n",
       "price_new     0\n",
       "dtype: int64"
      ]
     },
     "execution_count": 6,
     "metadata": {},
     "output_type": "execute_result"
    }
   ],
   "source": [
    "data.isna().sum()"
   ]
  },
  {
   "cell_type": "code",
   "execution_count": 7,
   "metadata": {
    "colab": {
     "base_uri": "https://localhost:8080/"
    },
    "id": "tLhAPmbR3Pev",
    "outputId": "f325e717-c81f-4ed1-fbef-50db17d1175a"
   },
   "outputs": [
    {
     "data": {
      "text/plain": [
       "(53940, 9)"
      ]
     },
     "execution_count": 7,
     "metadata": {},
     "output_type": "execute_result"
    }
   ],
   "source": [
    "data.shape"
   ]
  },
  {
   "cell_type": "code",
   "execution_count": 8,
   "metadata": {
    "id": "exQ4u-5K3VkQ"
   },
   "outputs": [],
   "source": [
    "import matplotlib.pyplot as plt"
   ]
  },
  {
   "cell_type": "code",
   "execution_count": 9,
   "metadata": {
    "colab": {
     "base_uri": "https://localhost:8080/",
     "height": 265
    },
    "id": "gseHov533azw",
    "outputId": "b6a5ce1c-6e22-4c66-bb29-af35bcb23e78"
   },
   "outputs": [
    {
     "data": {
      "image/png": "[encoded data removed]",
      "text/plain": [
       "<Figure size 432x288 with 1 Axes>"
      ]
     },
     "metadata": {
      "needs_background": "light"
     },
     "output_type": "display_data"
    }
   ],
   "source": [
    "plt.hist(data['carat'])\n",
    "plt.show()"
   ]
  },
  {
   "cell_type": "code",
   "execution_count": 10,
   "metadata": {
    "colab": {
     "base_uri": "https://localhost:8080/",
     "height": 265
    },
    "id": "F1tB9pa-3e2D",
    "outputId": "212cde73-672e-446f-ff4e-15003ebe8fc2"
   },
   "outputs": [
    {
     "data": {
      "image/png": "[encoded data removed]",
      "text/plain": [
       "<Figure size 432x288 with 1 Axes>"
      ]
     },
     "metadata": {
      "needs_background": "light"
     },
     "output_type": "display_data"
    }
   ],
   "source": [
    "plt.hist(data['table'])\n",
    "plt.show()"
   ]
  },
  {
   "cell_type": "code",
   "execution_count": 11,
   "metadata": {
    "colab": {
     "base_uri": "https://localhost:8080/",
     "height": 300
    },
    "id": "L1BAK_W53kag",
    "outputId": "204f15b8-f8ac-41a2-8df9-086b1727d524"
   },
   "outputs": [
    {
     "data": {
      "text/html": [
       "<div>\n",
       "<style scoped>\n",
       "    .dataframe tbody tr th:only-of-type {\n",
       "        vertical-align: middle;\n",
       "    }\n",
       "\n",
       "    .dataframe tbody tr th {\n",
       "        vertical-align: top;\n",
       "    }\n",
       "\n",
       "    .dataframe thead th {\n",
       "        text-align: right;\n",
       "    }\n",
       "</style>\n",
       "<table border=\"1\" class=\"dataframe\">\n",
       "  <thead>\n",
       "    <tr style=\"text-align: right;\">\n",
       "      <th></th>\n",
       "      <th>carat</th>\n",
       "      <th>table</th>\n",
       "      <th>x</th>\n",
       "      <th>y</th>\n",
       "      <th>z</th>\n",
       "      <th>price_new</th>\n",
       "    </tr>\n",
       "  </thead>\n",
       "  <tbody>\n",
       "    <tr>\n",
       "      <th>count</th>\n",
       "      <td>53841.000000</td>\n",
       "      <td>53877.000000</td>\n",
       "      <td>53940.000000</td>\n",
       "      <td>53940.000000</td>\n",
       "      <td>53940.000000</td>\n",
       "      <td>53940.000000</td>\n",
       "    </tr>\n",
       "    <tr>\n",
       "      <th>mean</th>\n",
       "      <td>0.798120</td>\n",
       "      <td>57.457719</td>\n",
       "      <td>5.731157</td>\n",
       "      <td>5.734526</td>\n",
       "      <td>3.539635</td>\n",
       "      <td>1966.399861</td>\n",
       "    </tr>\n",
       "    <tr>\n",
       "      <th>std</th>\n",
       "      <td>0.474428</td>\n",
       "      <td>2.235742</td>\n",
       "      <td>1.121761</td>\n",
       "      <td>1.142135</td>\n",
       "      <td>0.703869</td>\n",
       "      <td>1994.719869</td>\n",
       "    </tr>\n",
       "    <tr>\n",
       "      <th>min</th>\n",
       "      <td>0.200000</td>\n",
       "      <td>43.000000</td>\n",
       "      <td>0.000000</td>\n",
       "      <td>0.000000</td>\n",
       "      <td>0.000000</td>\n",
       "      <td>163.000000</td>\n",
       "    </tr>\n",
       "    <tr>\n",
       "      <th>25%</th>\n",
       "      <td>0.400000</td>\n",
       "      <td>56.000000</td>\n",
       "      <td>4.710000</td>\n",
       "      <td>4.720000</td>\n",
       "      <td>2.910000</td>\n",
       "      <td>475.000000</td>\n",
       "    </tr>\n",
       "    <tr>\n",
       "      <th>50%</th>\n",
       "      <td>0.700000</td>\n",
       "      <td>57.000000</td>\n",
       "      <td>5.700000</td>\n",
       "      <td>5.710000</td>\n",
       "      <td>3.530000</td>\n",
       "      <td>1200.500000</td>\n",
       "    </tr>\n",
       "    <tr>\n",
       "      <th>75%</th>\n",
       "      <td>1.040000</td>\n",
       "      <td>59.000000</td>\n",
       "      <td>6.540000</td>\n",
       "      <td>6.540000</td>\n",
       "      <td>4.040000</td>\n",
       "      <td>2662.125000</td>\n",
       "    </tr>\n",
       "    <tr>\n",
       "      <th>max</th>\n",
       "      <td>5.010000</td>\n",
       "      <td>95.000000</td>\n",
       "      <td>10.740000</td>\n",
       "      <td>58.900000</td>\n",
       "      <td>31.800000</td>\n",
       "      <td>9411.500000</td>\n",
       "    </tr>\n",
       "  </tbody>\n",
       "</table>\n",
       "</div>"
      ],
      "text/plain": [
       "              carat         table             x             y             z  \\\n",
       "count  53841.000000  53877.000000  53940.000000  53940.000000  53940.000000   \n",
       "mean       0.798120     57.457719      5.731157      5.734526      3.539635   \n",
       "std        0.474428      2.235742      1.121761      1.142135      0.703869   \n",
       "min        0.200000     43.000000      0.000000      0.000000      0.000000   \n",
       "25%        0.400000     56.000000      4.710000      4.720000      2.910000   \n",
       "50%        0.700000     57.000000      5.700000      5.710000      3.530000   \n",
       "75%        1.040000     59.000000      6.540000      6.540000      4.040000   \n",
       "max        5.010000     95.000000     10.740000     58.900000     31.800000   \n",
       "\n",
       "          price_new  \n",
       "count  53940.000000  \n",
       "mean    1966.399861  \n",
       "std     1994.719869  \n",
       "min      163.000000  \n",
       "25%      475.000000  \n",
       "50%     1200.500000  \n",
       "75%     2662.125000  \n",
       "max     9411.500000  "
      ]
     },
     "execution_count": 11,
     "metadata": {},
     "output_type": "execute_result"
    }
   ],
   "source": [
    "data.describe()"
   ]
  },
  {
   "cell_type": "code",
   "execution_count": 12,
   "metadata": {
    "colab": {
     "base_uri": "https://localhost:8080/"
    },
    "id": "XW1SjMRn3q84",
    "outputId": "fd9fb60e-8cfc-46f1-eaeb-d5d117347e51"
   },
   "outputs": [
    {
     "data": {
      "text/plain": [
       "Int64Index([11182, 11963, 15951, 24520, 26243, 27429, 49556, 49557], dtype='int64')"
      ]
     },
     "execution_count": 12,
     "metadata": {},
     "output_type": "execute_result"
    }
   ],
   "source": [
    "data[(data['x']==0) | (data['y']==0) | (data['z']==0)].index"
   ]
  },
  {
   "cell_type": "code",
   "execution_count": 13,
   "metadata": {
    "id": "W15ZK9DV4HAa"
   },
   "outputs": [],
   "source": [
    "data2 = data.drop([11182, 11963, 15951, 24520, 26243, 27429, 49556, 49557])"
   ]
  },
  {
   "cell_type": "code",
   "execution_count": 14,
   "metadata": {
    "colab": {
     "base_uri": "https://localhost:8080/",
     "height": 265
    },
    "id": "m0dp8Jiw4ZGa",
    "outputId": "5110b964-e6fe-4c3c-a766-bfea4cfa7dc4"
   },
   "outputs": [
    {
     "data": {
      "image/png": "[encoded data removed]",
      "text/plain": [
       "<Figure size 432x288 with 1 Axes>"
      ]
     },
     "metadata": {
      "needs_background": "light"
     },
     "output_type": "display_data"
    }
   ],
   "source": [
    "plt.scatter(data2['y'], data2['z'])\n",
    "plt.show()"
   ]
  },
  {
   "cell_type": "code",
   "execution_count": 15,
   "metadata": {
    "colab": {
     "base_uri": "https://localhost:8080/",
     "height": 265
    },
    "id": "uvGq9Vlo4m2C",
    "outputId": "a88202a8-ec43-4d0a-c864-d9d5d1825dae"
   },
   "outputs": [
    {
     "data": {
      "image/png": "[encoded data removed]",
      "text/plain": [
       "<Figure size 432x288 with 1 Axes>"
      ]
     },
     "metadata": {
      "needs_background": "light"
     },
     "output_type": "display_data"
    }
   ],
   "source": [
    "plt.boxplot(data2['z'])\n",
    "plt.show()"
   ]
  },
  {
   "cell_type": "code",
   "execution_count": 16,
   "metadata": {
    "colab": {
     "base_uri": "https://localhost:8080/"
    },
    "id": "gyvdXDG14z9A",
    "outputId": "0540de87-55ef-4082-eb9b-5b7871825215"
   },
   "outputs": [
    {
     "data": {
      "text/plain": [
       "Int64Index([24067, 48410, 49189], dtype='int64')"
      ]
     },
     "execution_count": 16,
     "metadata": {},
     "output_type": "execute_result"
    }
   ],
   "source": [
    "data2[(data2['y'] > 15) | (data2['z'] > 15)].index"
   ]
  },
  {
   "cell_type": "code",
   "execution_count": 17,
   "metadata": {
    "id": "3ps3qguq5DH6"
   },
   "outputs": [],
   "source": [
    "data3 = data2.drop([24067, 48410, 49189])"
   ]
  },
  {
   "cell_type": "code",
   "execution_count": 18,
   "metadata": {
    "colab": {
     "base_uri": "https://localhost:8080/"
    },
    "id": "mKI2wXWm5Z4j",
    "outputId": "4d2fe881-f389-44e3-9707-e576a44e475f"
   },
   "outputs": [
    {
     "data": {
      "text/plain": [
       "(53929, 9)"
      ]
     },
     "execution_count": 18,
     "metadata": {},
     "output_type": "execute_result"
    }
   ],
   "source": [
    "data3.shape"
   ]
  },
  {
   "cell_type": "code",
   "execution_count": 19,
   "metadata": {
    "id": "gNcs97Bq5cH3"
   },
   "outputs": [],
   "source": [
    "### fill the missing values"
   ]
  },
  {
   "cell_type": "code",
   "execution_count": 20,
   "metadata": {
    "colab": {
     "base_uri": "https://localhost:8080/"
    },
    "id": "yTGh05NW5iL0",
    "outputId": "9b971954-5b36-40a9-c6a1-99b2021f4998"
   },
   "outputs": [
    {
     "data": {
      "text/plain": [
       "carat        99\n",
       "cut           0\n",
       "color        56\n",
       "clarity       0\n",
       "table        63\n",
       "x             0\n",
       "y             0\n",
       "z             0\n",
       "price_new     0\n",
       "dtype: int64"
      ]
     },
     "execution_count": 20,
     "metadata": {},
     "output_type": "execute_result"
    }
   ],
   "source": [
    "data3.isna().sum()"
   ]
  },
  {
   "cell_type": "code",
   "execution_count": 21,
   "metadata": {
    "id": "2evRR_0E5l2F"
   },
   "outputs": [],
   "source": [
    "car_median = data3['carat'].median()\n",
    "data3['carat'] = data3['carat'].fillna(car_median)"
   ]
  },
  {
   "cell_type": "code",
   "execution_count": 22,
   "metadata": {
    "id": "176Z__aq5yid"
   },
   "outputs": [],
   "source": [
    "car_table = data3['table'].median()\n",
    "data3['table'] = data3['table'].fillna(car_table)"
   ]
  },
  {
   "cell_type": "code",
   "execution_count": 23,
   "metadata": {
    "colab": {
     "base_uri": "https://localhost:8080/"
    },
    "id": "PHr_el5w6APT",
    "outputId": "da137e81-e82b-43fb-ef41-b5c020d8e696"
   },
   "outputs": [
    {
     "data": {
      "text/plain": [
       "G    11234\n",
       "E     9795\n",
       "F     9539\n",
       "H     8301\n",
       "D     6774\n",
       "I     5422\n",
       "J     2808\n",
       "Name: color, dtype: int64"
      ]
     },
     "execution_count": 23,
     "metadata": {},
     "output_type": "execute_result"
    }
   ],
   "source": [
    "data3['color'].value_counts()"
   ]
  },
  {
   "cell_type": "code",
   "execution_count": 24,
   "metadata": {
    "id": "evfvkEpG6HIn"
   },
   "outputs": [],
   "source": [
    "data3[\"color\"] = data3['color'].fillna(\"G\")"
   ]
  },
  {
   "cell_type": "code",
   "execution_count": 25,
   "metadata": {
    "colab": {
     "base_uri": "https://localhost:8080/"
    },
    "id": "WgmnvdD76Ngg",
    "outputId": "dd02e8a6-9a89-4b4d-8c36-a7edefc6394f"
   },
   "outputs": [
    {
     "data": {
      "text/plain": [
       "carat        0\n",
       "cut          0\n",
       "color        0\n",
       "clarity      0\n",
       "table        0\n",
       "x            0\n",
       "y            0\n",
       "z            0\n",
       "price_new    0\n",
       "dtype: int64"
      ]
     },
     "execution_count": 25,
     "metadata": {},
     "output_type": "execute_result"
    }
   ],
   "source": [
    "data3.isna().sum()"
   ]
  },
  {
   "cell_type": "code",
   "execution_count": 26,
   "metadata": {
    "colab": {
     "base_uri": "https://localhost:8080/"
    },
    "id": "uMi7oaoM6TTh",
    "outputId": "80aa63a0-28a0-4702-a1fd-c06f88d68848"
   },
   "outputs": [
    {
     "data": {
      "text/plain": [
       "Index(['carat', 'cut', 'color', 'clarity', 'table', 'x', 'y', 'z',\n",
       "       'price_new'],\n",
       "      dtype='object')"
      ]
     },
     "execution_count": 26,
     "metadata": {},
     "output_type": "execute_result"
    }
   ],
   "source": [
    "data3.columns"
   ]
  },
  {
   "cell_type": "code",
   "execution_count": 27,
   "metadata": {
    "id": "vGE22FBh6Wzp"
   },
   "outputs": [],
   "source": [
    "y = data3['price_new']\n",
    "x = data3.drop(\"price_new\", axis=1)"
   ]
  },
  {
   "cell_type": "code",
   "execution_count": 28,
   "metadata": {
    "id": "gzofqLBC6gBP"
   },
   "outputs": [],
   "source": [
    "x = pd.get_dummies(x)"
   ]
  },
  {
   "cell_type": "code",
   "execution_count": 29,
   "metadata": {
    "id": "dNUwZsR77a-K"
   },
   "outputs": [],
   "source": [
    "from sklearn.preprocessing import MinMaxScaler\n",
    "mn = MinMaxScaler()"
   ]
  },
  {
   "cell_type": "code",
   "execution_count": 30,
   "metadata": {
    "id": "0aNOtjE87o2H"
   },
   "outputs": [],
   "source": [
    "x = mn.fit_transform(x)"
   ]
  },
  {
   "cell_type": "code",
   "execution_count": 31,
   "metadata": {
    "id": "GcbVcCI66hUg"
   },
   "outputs": [],
   "source": [
    "from sklearn.model_selection import train_test_split"
   ]
  },
  {
   "cell_type": "code",
   "execution_count": 32,
   "metadata": {
    "id": "5hImoCfO6_sF"
   },
   "outputs": [],
   "source": [
    "x_train, x_test, y_train , y_test = train_test_split(x, y, test_size=0.2, random_state= 134)"
   ]
  },
  {
   "cell_type": "code",
   "execution_count": 33,
   "metadata": {
    "id": "c4zYtO_E7TrZ"
   },
   "outputs": [],
   "source": [
    "### machine learning model ### how much r squred value and mean squared error ### activity"
   ]
  },
  {
   "cell_type": "code",
   "execution_count": 34,
   "metadata": {
    "id": "WShjGTVA77lF"
   },
   "outputs": [],
   "source": [
    "from tensorflow.keras.models import Sequential"
   ]
  },
  {
   "cell_type": "code",
   "execution_count": 35,
   "metadata": {
    "id": "v78pMYq98D0F"
   },
   "outputs": [],
   "source": [
    "from tensorflow.keras.layers import Dense"
   ]
  },
  {
   "cell_type": "code",
   "execution_count": 36,
   "metadata": {
    "colab": {
     "base_uri": "https://localhost:8080/"
    },
    "id": "hu9hfjpK8TUT",
    "outputId": "208a78a5-4e42-4db8-aceb-b05f38981e0a"
   },
   "outputs": [
    {
     "data": {
      "text/plain": [
       "(53929, 25)"
      ]
     },
     "execution_count": 36,
     "metadata": {},
     "output_type": "execute_result"
    }
   ],
   "source": [
    "x.shape"
   ]
  },
  {
   "cell_type": "code",
   "execution_count": 37,
   "metadata": {
    "id": "faFZJo9d8ICB"
   },
   "outputs": [],
   "source": [
    "### input = 25, hidden1 = 32, hidden2 = 16, hidden3 = 8, output = 1"
   ]
  },
  {
   "cell_type": "code",
   "execution_count": 38,
   "metadata": {
    "colab": {
     "base_uri": "https://localhost:8080/"
    },
    "id": "3C6v_62I8cGT",
    "outputId": "a7e25f34-d965-49e0-bad4-3dda12cda1f2"
   },
   "outputs": [
    {
     "name": "stdout",
     "output_type": "stream",
     "text": [
      "Model: \"sequential\"\n",
      "_________________________________________________________________\n",
      " Layer (type)                Output Shape              Param #   \n",
      "=================================================================\n",
      " dense (Dense)               (None, 32)                832       \n",
      "                                                                 \n",
      " dense_1 (Dense)             (None, 16)                528       \n",
      "                                                                 \n",
      " dense_2 (Dense)             (None, 8)                 136       \n",
      "                                                                 \n",
      " dense_3 (Dense)             (None, 1)                 9         \n",
      "                                                                 \n",
      "=================================================================\n",
      "Total params: 1,505\n",
      "Trainable params: 1,505\n",
      "Non-trainable params: 0\n",
      "_________________________________________________________________\n"
     ]
    }
   ],
   "source": [
    "model1 = Sequential()\n",
    "model1.add(Dense(32, activation = \"relu\", input_shape = (25,)))\n",
    "model1.add(Dense(16, activation = \"relu\"))\n",
    "model1.add(Dense(8, activation = \"relu\"))\n",
    "\n",
    "model1.add(Dense(1, activation = None))\n",
    "model1.summary()"
   ]
  },
  {
   "cell_type": "code",
   "execution_count": 39,
   "metadata": {
    "id": "BWtCBUqt846e"
   },
   "outputs": [],
   "source": [
    "### compile this model"
   ]
  },
  {
   "cell_type": "code",
   "execution_count": 40,
   "metadata": {
    "id": "hSLtxAnL8_l1"
   },
   "outputs": [],
   "source": [
    "### gradient descent"
   ]
  },
  {
   "cell_type": "code",
   "execution_count": 41,
   "metadata": {
    "id": "1fsivmra9CDJ"
   },
   "outputs": [],
   "source": [
    "model1.compile(optimizer = \"sgd\", loss = \"mean_squared_error\")"
   ]
  },
  {
   "cell_type": "code",
   "execution_count": 42,
   "metadata": {
    "id": "6WuUIOpc9Jzl"
   },
   "outputs": [],
   "source": [
    "#### train the wights using backpropogation algorithm"
   ]
  },
  {
   "cell_type": "code",
   "execution_count": 43,
   "metadata": {
    "colab": {
     "base_uri": "https://localhost:8080/"
    },
    "id": "bI-Nx4x09NrR",
    "outputId": "cceb74ef-37df-4dea-d703-f4866a68587a"
   },
   "outputs": [
    {
     "name": "stdout",
     "output_type": "stream",
     "text": [
      "Epoch 1/10\n",
      "338/338 [==============================] - 2s 4ms/step - loss: 127659836678177751564288.0000\n",
      "Epoch 2/10\n",
      "338/338 [==============================] - 1s 4ms/step - loss: 1758244452171776.0000\n",
      "Epoch 3/10\n",
      "338/338 [==============================] - 1s 2ms/step - loss: 2063673728.0000\n",
      "Epoch 4/10\n",
      "338/338 [==============================] - 1s 3ms/step - loss: 4000252.2500\n",
      "Epoch 5/10\n",
      "338/338 [==============================] - 1s 3ms/step - loss: 3998160.0000\n",
      "Epoch 6/10\n",
      "338/338 [==============================] - 1s 3ms/step - loss: 3997994.5000\n",
      "Epoch 7/10\n",
      "338/338 [==============================] - 1s 3ms/step - loss: 3998328.2500\n",
      "Epoch 8/10\n",
      "338/338 [==============================] - 1s 3ms/step - loss: 3998211.2500\n",
      "Epoch 9/10\n",
      "338/338 [==============================] - 1s 3ms/step - loss: 3998000.2500\n",
      "Epoch 10/10\n",
      "338/338 [==============================] - 1s 3ms/step - loss: 3998059.0000\n"
     ]
    },
    {
     "data": {
      "text/plain": [
       "<keras.callbacks.History at 0x1e0b7cee7f0>"
      ]
     },
     "execution_count": 43,
     "metadata": {},
     "output_type": "execute_result"
    }
   ],
   "source": [
    "model1.fit(x_train, y_train, epochs = 10, batch_size = 128)"
   ]
  },
  {
   "cell_type": "code",
   "execution_count": 44,
   "metadata": {
    "colab": {
     "base_uri": "https://localhost:8080/"
    },
    "id": "DWZw9Gtr9V-9",
    "outputId": "75a77d74-a4a2-4722-f73c-af34cce82d6b"
   },
   "outputs": [
    {
     "name": "stdout",
     "output_type": "stream",
     "text": [
      "338/338 [==============================] - 1s 3ms/step - loss: 3895484.7500\n"
     ]
    },
    {
     "data": {
      "text/plain": [
       "3895484.75"
      ]
     },
     "execution_count": 44,
     "metadata": {},
     "output_type": "execute_result"
    }
   ],
   "source": [
    "model1.evaluate(x_test, y_test)"
   ]
  },
  {
   "cell_type": "code",
   "execution_count": null,
   "metadata": {
    "id": "Ue_XaiIN9uY9"
   },
   "outputs": [],
   "source": []
  },
  {
   "cell_type": "markdown",
   "metadata": {
    "id": "vT8hg_ZR9u3Y"
   },
   "source": [
    "model2 "
   ]
  },
  {
   "cell_type": "code",
   "execution_count": 45,
   "metadata": {
    "id": "3H6-DPxf9i7j"
   },
   "outputs": [],
   "source": [
    "model2 = Sequential()\n",
    "model2.add(Dense(64, input_shape = (25,), activation = \"relu\"))\n",
    "model2.add(Dense(64, activation = \"relu\"))\n",
    "model2.add(Dense(64, activation = \"relu\"))\n",
    "model2.add(Dense(64, activation = \"relu\"))\n",
    "model2.add(Dense(64, activation = \"relu\"))\n",
    "model2.add(Dense(64, activation = \"relu\"))\n",
    "model2.add(Dense(64, activation = \"relu\"))\n",
    "model2.add(Dense(1, activation = None))"
   ]
  },
  {
   "cell_type": "code",
   "execution_count": 46,
   "metadata": {
    "id": "WQKPJ5t1-LRs"
   },
   "outputs": [],
   "source": [
    "model2.compile(optimizer = \"sgd\", loss = \"mean_squared_error\")"
   ]
  },
  {
   "cell_type": "code",
   "execution_count": 47,
   "metadata": {
    "colab": {
     "base_uri": "https://localhost:8080/"
    },
    "id": "ETlVK_d7-gpc",
    "outputId": "6c7d5330-1f4b-441f-cbf5-9e27a7563b4b"
   },
   "outputs": [
    {
     "name": "stdout",
     "output_type": "stream",
     "text": [
      "Epoch 1/30\n",
      "338/338 [==============================] - 3s 4ms/step - loss: nan\n",
      "Epoch 2/30\n",
      "338/338 [==============================] - 1s 4ms/step - loss: nan\n",
      "Epoch 3/30\n",
      "338/338 [==============================] - 1s 4ms/step - loss: nan\n",
      "Epoch 4/30\n",
      "338/338 [==============================] - 1s 4ms/step - loss: nan\n",
      "Epoch 5/30\n",
      "338/338 [==============================] - 1s 4ms/step - loss: nan\n",
      "Epoch 6/30\n",
      "338/338 [==============================] - 2s 5ms/step - loss: nan\n",
      "Epoch 7/30\n",
      "338/338 [==============================] - 1s 4ms/step - loss: nan\n",
      "Epoch 8/30\n",
      "338/338 [==============================] - 1s 4ms/step - loss: nan\n",
      "Epoch 9/30\n",
      "338/338 [==============================] - 1s 4ms/step - loss: nan\n",
      "Epoch 10/30\n",
      "338/338 [==============================] - 1s 4ms/step - loss: nan\n",
      "Epoch 11/30\n",
      "338/338 [==============================] - 1s 4ms/step - loss: nan\n",
      "Epoch 12/30\n",
      "338/338 [==============================] - 2s 5ms/step - loss: nan\n",
      "Epoch 13/30\n",
      "338/338 [==============================] - 1s 4ms/step - loss: nan\n",
      "Epoch 14/30\n",
      "338/338 [==============================] - 1s 4ms/step - loss: nan\n",
      "Epoch 15/30\n",
      "338/338 [==============================] - 1s 4ms/step - loss: nan\n",
      "Epoch 16/30\n",
      "338/338 [==============================] - 1s 4ms/step - loss: nan\n",
      "Epoch 17/30\n",
      "338/338 [==============================] - 2s 5ms/step - loss: nan\n",
      "Epoch 18/30\n",
      "338/338 [==============================] - 2s 5ms/step - loss: nan\n",
      "Epoch 19/30\n",
      "338/338 [==============================] - 2s 5ms/step - loss: nan\n",
      "Epoch 20/30\n",
      "338/338 [==============================] - 2s 5ms/step - loss: nan\n",
      "Epoch 21/30\n",
      "338/338 [==============================] - 1s 4ms/step - loss: nan\n",
      "Epoch 22/30\n",
      "338/338 [==============================] - 1s 4ms/step - loss: nan\n",
      "Epoch 23/30\n",
      "338/338 [==============================] - 2s 5ms/step - loss: nan\n",
      "Epoch 24/30\n",
      "338/338 [==============================] - 1s 4ms/step - loss: nan\n",
      "Epoch 25/30\n",
      "338/338 [==============================] - 1s 4ms/step - loss: nan\n",
      "Epoch 26/30\n",
      "338/338 [==============================] - 1s 4ms/step - loss: nan\n",
      "Epoch 27/30\n",
      "338/338 [==============================] - 1s 4ms/step - loss: nan\n",
      "Epoch 28/30\n",
      "338/338 [==============================] - 2s 5ms/step - loss: nan\n",
      "Epoch 29/30\n",
      "338/338 [==============================] - 1s 4ms/step - loss: nan\n",
      "Epoch 30/30\n",
      "338/338 [==============================] - 2s 5ms/step - loss: nan\n"
     ]
    },
    {
     "data": {
      "text/plain": [
       "<keras.callbacks.History at 0x1e0b8fc9fd0>"
      ]
     },
     "execution_count": 47,
     "metadata": {},
     "output_type": "execute_result"
    }
   ],
   "source": [
    "model2.fit(x_train, y_train, epochs = 30, batch_size = 128)"
   ]
  },
  {
   "cell_type": "code",
   "execution_count": 48,
   "metadata": {
    "id": "rHVQInwt_1aO"
   },
   "outputs": [],
   "source": [
    "from tensorflow.keras.layers import Dropout"
   ]
  },
  {
   "cell_type": "code",
   "execution_count": 49,
   "metadata": {
    "id": "E9e_uHa3-mJ0"
   },
   "outputs": [],
   "source": [
    "model3 = Sequential()\n",
    "model3.add(Dense(128, input_shape = (25,), activation = \"relu\"))\n",
    "model3.add(Dense(128, activation = \"relu\"))\n",
    "model3.add(Dropout(0.15))\n",
    "model3.add(Dense(128, activation = \"relu\"))\n",
    "model3.add(Dropout(0.15))\n",
    "model3.add(Dense(64, activation = \"relu\"))\n",
    "model3.add(Dropout(0.15))\n",
    "model3.add(Dense(64, activation = \"relu\"))\n",
    "model3.add(Dropout(0.15))\n",
    "model3.add(Dense(32, activation = \"relu\"))\n",
    "model3.add(Dense(16, activation = \"relu\"))\n",
    "model3.add(Dense(1, activation = None))"
   ]
  },
  {
   "cell_type": "code",
   "execution_count": 50,
   "metadata": {
    "id": "BycHT5Qg_s0f"
   },
   "outputs": [],
   "source": [
    "model3.compile(optimizer = \"adam\", loss = \"mean_squared_error\")"
   ]
  },
  {
   "cell_type": "code",
   "execution_count": 51,
   "metadata": {
    "colab": {
     "base_uri": "https://localhost:8080/"
    },
    "id": "QHG7FRYQADes",
    "outputId": "4911a322-d5e7-4952-b14e-ae95d5726b22"
   },
   "outputs": [
    {
     "name": "stdout",
     "output_type": "stream",
     "text": [
      "Epoch 1/30\n",
      "338/338 [==============================] - 4s 8ms/step - loss: 2064542.7500\n",
      "Epoch 2/30\n",
      "338/338 [==============================] - 2s 7ms/step - loss: 220868.0625\n",
      "Epoch 3/30\n",
      "338/338 [==============================] - 4s 11ms/step - loss: 207672.8906\n",
      "Epoch 4/30\n",
      "338/338 [==============================] - 3s 9ms/step - loss: 198785.8281\n",
      "Epoch 5/30\n",
      "338/338 [==============================] - 3s 9ms/step - loss: 193321.4375\n",
      "Epoch 6/30\n",
      "338/338 [==============================] - 3s 8ms/step - loss: 192025.2656\n",
      "Epoch 7/30\n",
      "338/338 [==============================] - 3s 8ms/step - loss: 189381.2031\n",
      "Epoch 8/30\n",
      "338/338 [==============================] - 3s 9ms/step - loss: 182807.3125\n",
      "Epoch 9/30\n",
      "338/338 [==============================] - 3s 8ms/step - loss: 184075.8438\n",
      "Epoch 10/30\n",
      "338/338 [==============================] - 3s 8ms/step - loss: 183405.1562\n",
      "Epoch 11/30\n",
      "338/338 [==============================] - 3s 8ms/step - loss: 186347.0312\n",
      "Epoch 12/30\n",
      "338/338 [==============================] - 3s 9ms/step - loss: 173623.7344\n",
      "Epoch 13/30\n",
      "338/338 [==============================] - 3s 9ms/step - loss: 171652.7344\n",
      "Epoch 14/30\n",
      "338/338 [==============================] - 3s 9ms/step - loss: 177401.8906\n",
      "Epoch 15/30\n",
      "338/338 [==============================] - 3s 7ms/step - loss: 173919.8906\n",
      "Epoch 16/30\n",
      "338/338 [==============================] - 3s 8ms/step - loss: 168846.9844\n",
      "Epoch 17/30\n",
      "338/338 [==============================] - 2s 7ms/step - loss: 164310.2188\n",
      "Epoch 18/30\n",
      "338/338 [==============================] - 3s 9ms/step - loss: 164939.5625\n",
      "Epoch 19/30\n",
      "338/338 [==============================] - 3s 8ms/step - loss: 161181.7188\n",
      "Epoch 20/30\n",
      "338/338 [==============================] - 2s 7ms/step - loss: 160113.6406\n",
      "Epoch 21/30\n",
      "338/338 [==============================] - 3s 7ms/step - loss: 159569.3906\n",
      "Epoch 22/30\n",
      "338/338 [==============================] - 2s 7ms/step - loss: 159179.5000\n",
      "Epoch 23/30\n",
      "338/338 [==============================] - 3s 7ms/step - loss: 153496.6875\n",
      "Epoch 24/30\n",
      "338/338 [==============================] - 2s 7ms/step - loss: 155175.3125\n",
      "Epoch 25/30\n",
      "338/338 [==============================] - 2s 7ms/step - loss: 161806.7969\n",
      "Epoch 26/30\n",
      "338/338 [==============================] - 2s 7ms/step - loss: 148735.2031\n",
      "Epoch 27/30\n",
      "338/338 [==============================] - 2s 7ms/step - loss: 149300.1250\n",
      "Epoch 28/30\n",
      "338/338 [==============================] - 2s 7ms/step - loss: 152051.6875\n",
      "Epoch 29/30\n",
      "338/338 [==============================] - 2s 7ms/step - loss: 147713.0781\n",
      "Epoch 30/30\n",
      "338/338 [==============================] - 2s 7ms/step - loss: 149023.9062\n"
     ]
    },
    {
     "data": {
      "text/plain": [
       "<keras.callbacks.History at 0x1e0b9071f10>"
      ]
     },
     "execution_count": 51,
     "metadata": {},
     "output_type": "execute_result"
    }
   ],
   "source": [
    "model3.fit(x_train, y_train, epochs = 30, batch_size = 128)"
   ]
  },
  {
   "cell_type": "code",
   "execution_count": 52,
   "metadata": {
    "colab": {
     "base_uri": "https://localhost:8080/"
    },
    "id": "2NhvGvFmAHvl",
    "outputId": "937c34a6-1985-4731-d066-60411d531afb"
   },
   "outputs": [
    {
     "name": "stdout",
     "output_type": "stream",
     "text": [
      "338/338 [==============================] - 1s 3ms/step - loss: 231448.3750\n"
     ]
    },
    {
     "data": {
      "text/plain": [
       "231448.375"
      ]
     },
     "execution_count": 52,
     "metadata": {},
     "output_type": "execute_result"
    }
   ],
   "source": [
    "model3.evaluate(x_test, y_test)"
   ]
  },
  {
   "cell_type": "code",
   "execution_count": 53,
   "metadata": {
    "id": "8yddVjY1AtN8"
   },
   "outputs": [],
   "source": [
    "from sklearn.linear_model import LinearRegression"
   ]
  },
  {
   "cell_type": "code",
   "execution_count": 54,
   "metadata": {
    "id": "zxcusg0qA3Wi"
   },
   "outputs": [],
   "source": [
    "lr = LinearRegression()"
   ]
  },
  {
   "cell_type": "code",
   "execution_count": 55,
   "metadata": {
    "colab": {
     "base_uri": "https://localhost:8080/",
     "height": 74
    },
    "id": "L32rS8wEA5HY",
    "outputId": "57e40a4a-3db4-4b8d-b76a-30ef85fc9938"
   },
   "outputs": [
    {
     "data": {
      "text/plain": [
       "LinearRegression()"
      ]
     },
     "execution_count": 55,
     "metadata": {},
     "output_type": "execute_result"
    }
   ],
   "source": [
    "lr.fit(x_train, y_train)"
   ]
  },
  {
   "cell_type": "code",
   "execution_count": 56,
   "metadata": {
    "id": "PpQXuHgqA8Gw"
   },
   "outputs": [],
   "source": [
    "y_pred = lr.predict(x_test)"
   ]
  },
  {
   "cell_type": "code",
   "execution_count": 57,
   "metadata": {
    "id": "d9AUTsAEA-s4"
   },
   "outputs": [],
   "source": [
    "from sklearn.metrics import mean_squared_error"
   ]
  },
  {
   "cell_type": "code",
   "execution_count": 58,
   "metadata": {
    "colab": {
     "base_uri": "https://localhost:8080/"
    },
    "id": "UYrRpei5BECi",
    "outputId": "3ca5c2f3-b3d0-43e6-bf2d-226d6f41d73a"
   },
   "outputs": [
    {
     "data": {
      "text/plain": [
       "310603.49979719083"
      ]
     },
     "execution_count": 58,
     "metadata": {},
     "output_type": "execute_result"
    }
   ],
   "source": [
    "mean_squared_error(y_test, y_pred)"
   ]
  },
  {
   "cell_type": "code",
   "execution_count": 59,
   "metadata": {
    "id": "QxLzdYdLBHcR"
   },
   "outputs": [],
   "source": [
    "from tensorflow.keras.regularizers import l2"
   ]
  },
  {
   "cell_type": "code",
   "execution_count": 60,
   "metadata": {
    "id": "Vs4f291OBNO_"
   },
   "outputs": [],
   "source": [
    "model4 = Sequential()\n",
    "model4.add(Dense(128, input_shape = (25,), activation = \"relu\", kernel_regularizer=l2(0.01)))\n",
    "model4.add(Dense(128, activation = \"relu\", kernel_regularizer=l2(0.01)))\n",
    "model4.add(Dropout(0.15))\n",
    "model4.add(Dense(128, activation = \"relu\", kernel_regularizer=l2(0.01)))\n",
    "model4.add(Dropout(0.15))\n",
    "model4.add(Dense(64, activation = \"relu\", kernel_regularizer=l2(0.01)))\n",
    "model4.add(Dropout(0.15))\n",
    "model4.add(Dense(64, activation = \"relu\", kernel_regularizer=l2(0.01)))\n",
    "model4.add(Dropout(0.15))\n",
    "model4.add(Dense(32, activation = \"relu\", kernel_regularizer=l2(0.01)))\n",
    "model4.add(Dropout(0.15))\n",
    "model4.add(Dense(16, activation = \"relu\", kernel_regularizer=l2(0.01)))\n",
    "model4.add(Dropout(0.15))\n",
    "model4.add(Dense(8, activation = \"relu\", kernel_regularizer=l2(0.01)))\n",
    "model4.add(Dropout(0.15))\n",
    "model4.add(Dense(1, activation = None))"
   ]
  },
  {
   "cell_type": "code",
   "execution_count": 61,
   "metadata": {},
   "outputs": [
    {
     "name": "stdout",
     "output_type": "stream",
     "text": [
      "Epoch 1/40\n",
      "338/338 [==============================] - 4s 8ms/step - loss: 2891441.5000 - mean_squared_error: 2891436.0000\n",
      "Epoch 2/40\n",
      "338/338 [==============================] - 3s 10ms/step - loss: 909613.0625 - mean_squared_error: 909606.1250\n",
      "Epoch 3/40\n",
      "338/338 [==============================] - 3s 10ms/step - loss: 900809.7500 - mean_squared_error: 900802.5000\n",
      "Epoch 4/40\n",
      "338/338 [==============================] - 3s 9ms/step - loss: 842819.7500 - mean_squared_error: 842813.0000\n",
      "Epoch 5/40\n",
      "338/338 [==============================] - 3s 9ms/step - loss: 829910.7500 - mean_squared_error: 829904.3125\n",
      "Epoch 6/40\n",
      "338/338 [==============================] - 3s 8ms/step - loss: 814291.1875 - mean_squared_error: 814284.7500\n",
      "Epoch 7/40\n",
      "338/338 [==============================] - 3s 10ms/step - loss: 816767.4375 - mean_squared_error: 816761.0000\n",
      "Epoch 8/40\n",
      "338/338 [==============================] - 3s 8ms/step - loss: 799927.8125 - mean_squared_error: 799921.1875\n",
      "Epoch 9/40\n",
      "338/338 [==============================] - 3s 10ms/step - loss: 812352.9375 - mean_squared_error: 812346.2500\n",
      "Epoch 10/40\n",
      "338/338 [==============================] - 3s 8ms/step - loss: 805323.5625 - mean_squared_error: 805316.7500\n",
      "Epoch 11/40\n",
      "338/338 [==============================] - 4s 11ms/step - loss: 804009.0000 - mean_squared_error: 804001.5000\n",
      "Epoch 12/40\n",
      "338/338 [==============================] - 3s 9ms/step - loss: 804274.5625 - mean_squared_error: 804267.8125\n",
      "Epoch 13/40\n",
      "338/338 [==============================] - 3s 8ms/step - loss: 780806.1875 - mean_squared_error: 780799.1875\n",
      "Epoch 14/40\n",
      "338/338 [==============================] - 4s 10ms/step - loss: 800424.2500 - mean_squared_error: 800417.6250\n",
      "Epoch 15/40\n",
      "338/338 [==============================] - 3s 9ms/step - loss: 802622.0625 - mean_squared_error: 802614.8125\n",
      "Epoch 16/40\n",
      "338/338 [==============================] - 3s 9ms/step - loss: 791775.3125 - mean_squared_error: 791767.6250\n",
      "Epoch 17/40\n",
      "338/338 [==============================] - 3s 8ms/step - loss: 796897.6250 - mean_squared_error: 796890.1250\n",
      "Epoch 18/40\n",
      "338/338 [==============================] - 3s 8ms/step - loss: 771496.1875 - mean_squared_error: 771489.1250\n",
      "Epoch 19/40\n",
      "338/338 [==============================] - 3s 8ms/step - loss: 779583.8750 - mean_squared_error: 779576.5000\n",
      "Epoch 20/40\n",
      "338/338 [==============================] - 3s 8ms/step - loss: 802505.7500 - mean_squared_error: 802498.5000\n",
      "Epoch 21/40\n",
      "338/338 [==============================] - 4s 11ms/step - loss: 769394.3125 - mean_squared_error: 769387.1250\n",
      "Epoch 22/40\n",
      "338/338 [==============================] - 3s 9ms/step - loss: 779202.6250 - mean_squared_error: 779195.3125\n",
      "Epoch 23/40\n",
      "338/338 [==============================] - 3s 9ms/step - loss: 772674.6250 - mean_squared_error: 772666.7500\n",
      "Epoch 24/40\n",
      "338/338 [==============================] - 3s 9ms/step - loss: 776544.6875 - mean_squared_error: 776537.5625\n",
      "Epoch 25/40\n",
      "338/338 [==============================] - 3s 9ms/step - loss: 769596.6875 - mean_squared_error: 769589.5000\n",
      "Epoch 26/40\n",
      "338/338 [==============================] - 3s 8ms/step - loss: 793556.8125 - mean_squared_error: 793548.9375\n",
      "Epoch 27/40\n",
      "338/338 [==============================] - 3s 9ms/step - loss: 769089.5625 - mean_squared_error: 769081.8125\n",
      "Epoch 28/40\n",
      "338/338 [==============================] - 3s 8ms/step - loss: 771244.7500 - mean_squared_error: 771236.7500\n",
      "Epoch 29/40\n",
      "338/338 [==============================] - 3s 9ms/step - loss: 768510.2500 - mean_squared_error: 768502.0625\n",
      "Epoch 30/40\n",
      "338/338 [==============================] - 3s 9ms/step - loss: 782242.3750 - mean_squared_error: 782234.4375\n",
      "Epoch 31/40\n",
      "338/338 [==============================] - 3s 8ms/step - loss: 755720.1875 - mean_squared_error: 755712.0000\n",
      "Epoch 32/40\n",
      "338/338 [==============================] - 3s 8ms/step - loss: 756443.4375 - mean_squared_error: 756434.7500\n",
      "Epoch 33/40\n",
      "338/338 [==============================] - 3s 9ms/step - loss: 759842.6875 - mean_squared_error: 759834.5625\n",
      "Epoch 34/40\n",
      "338/338 [==============================] - 3s 8ms/step - loss: 776293.5625 - mean_squared_error: 776284.6250\n",
      "Epoch 35/40\n",
      "338/338 [==============================] - 4s 11ms/step - loss: 767204.9375 - mean_squared_error: 767196.5000\n",
      "Epoch 36/40\n",
      "338/338 [==============================] - 4s 11ms/step - loss: 761474.0000 - mean_squared_error: 761465.0000\n",
      "Epoch 37/40\n",
      "338/338 [==============================] - 3s 9ms/step - loss: 760956.1875 - mean_squared_error: 760946.4375\n",
      "Epoch 38/40\n",
      "338/338 [==============================] - 3s 9ms/step - loss: 774511.6250 - mean_squared_error: 774502.1875\n",
      "Epoch 39/40\n",
      "338/338 [==============================] - 3s 9ms/step - loss: 767703.0000 - mean_squared_error: 767693.6250\n",
      "Epoch 40/40\n",
      "338/338 [==============================] - 3s 8ms/step - loss: 779520.2500 - mean_squared_error: 779510.9375\n"
     ]
    },
    {
     "data": {
      "text/plain": [
       "<keras.callbacks.History at 0x1e0bba3e790>"
      ]
     },
     "execution_count": 61,
     "metadata": {},
     "output_type": "execute_result"
    }
   ],
   "source": [
    "model4.compile(optimizer = \"adam\", loss = \"mean_squared_error\", metrics = [\"mean_squared_error\"])\n",
    "model4.fit(x_train, y_train, epochs = 40, batch_size = 128)"
   ]
  },
  {
   "cell_type": "code",
   "execution_count": 62,
   "metadata": {},
   "outputs": [
    {
     "name": "stdout",
     "output_type": "stream",
     "text": [
      "338/338 [==============================] - 1s 3ms/step - loss: 186594.8125 - mean_squared_error: 186584.9375\n"
     ]
    },
    {
     "data": {
      "text/plain": [
       "[186594.8125, 186584.9375]"
      ]
     },
     "execution_count": 62,
     "metadata": {},
     "output_type": "execute_result"
    }
   ],
   "source": [
    "model4.evaluate(x_test, y_test)"
   ]
  },
  {
   "cell_type": "code",
   "execution_count": 63,
   "metadata": {},
   "outputs": [],
   "source": [
    "model5 = Sequential()\n",
    "model5.add(Dense(128, input_shape = (25,), activation = \"softmax\"))\n",
    "model5.add(Dense(128, activation = \"softmax\"))\n",
    "model5.add(Dropout(0.15))\n",
    "model5.add(Dense(128, activation = \"softmax\"))\n",
    "model5.add(Dropout(0.15))\n",
    "model5.add(Dense(64, activation = \"softmax\"))\n",
    "model5.add(Dropout(0.15))\n",
    "model5.add(Dense(64, activation = \"softmax\"))\n",
    "model5.add(Dropout(0.15))\n",
    "model5.add(Dense(32, activation = \"softmax\"))\n",
    "model5.add(Dense(16, activation = \"softmax\"))\n",
    "model5.add(Dense(1, activation = None))"
   ]
  },
  {
   "cell_type": "code",
   "execution_count": 64,
   "metadata": {},
   "outputs": [],
   "source": [
    "model5.compile(optimizer = \"sgd\", loss = \"mean_squared_error\")"
   ]
  },
  {
   "cell_type": "code",
   "execution_count": 65,
   "metadata": {},
   "outputs": [
    {
     "name": "stdout",
     "output_type": "stream",
     "text": [
      "Epoch 1/30\n",
      "338/338 [==============================] - 4s 7ms/step - loss: 4157395.0000\n",
      "Epoch 2/30\n",
      "338/338 [==============================] - 3s 8ms/step - loss: 3998635.5000\n",
      "Epoch 3/30\n",
      "338/338 [==============================] - 3s 8ms/step - loss: 3998464.0000\n",
      "Epoch 4/30\n",
      "338/338 [==============================] - 2s 7ms/step - loss: 3998526.2500\n",
      "Epoch 5/30\n",
      "338/338 [==============================] - 2s 7ms/step - loss: 3998279.2500\n",
      "Epoch 6/30\n",
      "338/338 [==============================] - 3s 8ms/step - loss: 3998943.2500\n",
      "Epoch 7/30\n",
      "338/338 [==============================] - 3s 10ms/step - loss: 3998228.5000\n",
      "Epoch 8/30\n",
      "338/338 [==============================] - 3s 9ms/step - loss: 3998239.7500\n",
      "Epoch 9/30\n",
      "338/338 [==============================] - 3s 9ms/step - loss: 3998437.2500\n",
      "Epoch 10/30\n",
      "338/338 [==============================] - 3s 9ms/step - loss: 3998555.7500\n",
      "Epoch 11/30\n",
      "338/338 [==============================] - 3s 9ms/step - loss: 3998598.7500\n",
      "Epoch 12/30\n",
      "338/338 [==============================] - 3s 9ms/step - loss: 3998257.7500\n",
      "Epoch 13/30\n",
      "338/338 [==============================] - 3s 9ms/step - loss: 3998326.7500\n",
      "Epoch 14/30\n",
      "338/338 [==============================] - 3s 9ms/step - loss: 3998420.2500\n",
      "Epoch 15/30\n",
      "338/338 [==============================] - 3s 9ms/step - loss: 3998596.5000\n",
      "Epoch 16/30\n",
      "338/338 [==============================] - 3s 10ms/step - loss: 3998765.5000\n",
      "Epoch 17/30\n",
      "338/338 [==============================] - 3s 9ms/step - loss: 3998372.0000\n",
      "Epoch 18/30\n",
      "338/338 [==============================] - 3s 10ms/step - loss: 3998544.5000\n",
      "Epoch 19/30\n",
      "338/338 [==============================] - 3s 8ms/step - loss: 3998419.5000\n",
      "Epoch 20/30\n",
      "338/338 [==============================] - 3s 9ms/step - loss: 3998548.2500\n",
      "Epoch 21/30\n",
      "338/338 [==============================] - 3s 8ms/step - loss: 3998465.7500\n",
      "Epoch 22/30\n",
      "338/338 [==============================] - 3s 10ms/step - loss: 3998747.5000\n",
      "Epoch 23/30\n",
      "338/338 [==============================] - 3s 8ms/step - loss: 3998446.0000\n",
      "Epoch 24/30\n",
      "338/338 [==============================] - 3s 7ms/step - loss: 3998634.0000\n",
      "Epoch 25/30\n",
      "338/338 [==============================] - 3s 7ms/step - loss: 3998570.5000\n",
      "Epoch 26/30\n",
      "338/338 [==============================] - 3s 7ms/step - loss: 3998347.0000\n",
      "Epoch 27/30\n",
      "338/338 [==============================] - 3s 8ms/step - loss: 3998727.0000\n",
      "Epoch 28/30\n",
      "338/338 [==============================] - 3s 7ms/step - loss: 3998185.5000\n",
      "Epoch 29/30\n",
      "338/338 [==============================] - 3s 8ms/step - loss: 3998354.5000\n",
      "Epoch 30/30\n",
      "338/338 [==============================] - 3s 7ms/step - loss: 3998197.2500\n"
     ]
    },
    {
     "data": {
      "text/plain": [
       "<keras.callbacks.History at 0x1e0aca2fcd0>"
      ]
     },
     "execution_count": 65,
     "metadata": {},
     "output_type": "execute_result"
    }
   ],
   "source": [
    "model5.fit(x_train, y_train, epochs = 30, batch_size = 128)"
   ]
  },
  {
   "cell_type": "code",
   "execution_count": 66,
   "metadata": {},
   "outputs": [
    {
     "name": "stdout",
     "output_type": "stream",
     "text": [
      "338/338 [==============================] - 1s 3ms/step - loss: 3900069.5000\n"
     ]
    },
    {
     "data": {
      "text/plain": [
       "3900069.5"
      ]
     },
     "execution_count": 66,
     "metadata": {},
     "output_type": "execute_result"
    }
   ],
   "source": [
    "model5.evaluate(x_test, y_test)"
   ]
  },
  {
   "cell_type": "code",
   "execution_count": null,
   "metadata": {},
   "outputs": [],
   "source": []
  }
 ],
 "metadata": {
  "accelerator": "GPU",
  "colab": {
   "provenance": []
  },
  "gpuClass": "standard",
  "kernelspec": {
   "display_name": "Python 3 (ipykernel)",
   "language": "python",
   "name": "python3"
  },
  "language_info": {
   "codemirror_mode": {
    "name": "ipython",
    "version": 3
   },
   "file_extension": ".py",
   "mimetype": "text/x-python",
   "name": "python",
   "nbconvert_exporter": "python",
   "pygments_lexer": "ipython3",
   "version": "3.9.7"
  }
 },
 "nbformat": 4,
 "nbformat_minor": 1
}
